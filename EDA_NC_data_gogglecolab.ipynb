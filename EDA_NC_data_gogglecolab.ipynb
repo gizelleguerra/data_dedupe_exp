{
  "nbformat": 4,
  "nbformat_minor": 0,
  "metadata": {
    "kernelspec": {
      "display_name": "Python 3",
      "language": "python",
      "name": "python3"
    },
    "language_info": {
      "codemirror_mode": {
        "name": "ipython",
        "version": 3
      },
      "file_extension": ".py",
      "mimetype": "text/x-python",
      "name": "python",
      "nbconvert_exporter": "python",
      "pygments_lexer": "ipython3",
      "version": "3.6.8"
    },
    "colab": {
      "name": "EDA_NC_data.ipynb",
      "provenance": []
    }
  },
  "cells": [
    {
      "cell_type": "code",
      "metadata": {
        "id": "F_iN0QdxPMVt"
      },
      "source": [
        "import re, os, sys, unicodedata\n",
        "import pandas as pd\n",
        "import numpy as np"
      ],
      "execution_count": 2,
      "outputs": []
    },
    {
      "cell_type": "code",
      "metadata": {
        "id": "EB9AmuQ8PMVv"
      },
      "source": [
        "import optparse\n",
        "import io"
      ],
      "execution_count": 5,
      "outputs": []
    },
    {
      "cell_type": "markdown",
      "metadata": {
        "id": "U-LpSLGgPMVw"
      },
      "source": [
        "#### Read Data - Filed Description:\n",
        "recId: entites with the same recId refer to the same entity. this is the ground truth, join to df0 by this column to get the 'answers'. Drop this field for now --> save in answers df \n",
        "givenname:   \n",
        "surname:  \n",
        "post code:  \n",
        "suburb:"
      ]
    },
    {
      "cell_type": "code",
      "metadata": {
        "id": "y-lClcVAP1Kn",
        "outputId": "2aed9104-dd3c-4608-9de3-56ed962c8844",
        "colab": {
          "resources": {
            "http://localhost:8080/nbextensions/google.colab/files.js": {
              "data": "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",
              "ok": true,
              "headers": [
                [
                  "content-type",
                  "application/javascript"
                ]
              ],
              "status": 200,
              "status_text": ""
            }
          },
          "base_uri": "https://localhost:8080/",
          "height": 108
        }
      },
      "source": [
        "# Upload NC voter data files from local computer\n",
        "from google.colab import files\n",
        "uploaded = files.upload()"
      ],
      "execution_count": 6,
      "outputs": [
        {
          "output_type": "display_data",
          "data": {
            "text/html": [
              "\n",
              "     <input type=\"file\" id=\"files-186b1ed6-356e-421f-b0f0-9f8d6ce81e77\" name=\"files[]\" multiple disabled\n",
              "        style=\"border:none\" />\n",
              "     <output id=\"result-186b1ed6-356e-421f-b0f0-9f8d6ce81e77\">\n",
              "      Upload widget is only available when the cell has been executed in the\n",
              "      current browser session. Please rerun this cell to enable.\n",
              "      </output>\n",
              "      <script src=\"/nbextensions/google.colab/files.js\"></script> "
            ],
            "text/plain": [
              "<IPython.core.display.HTML object>"
            ]
          },
          "metadata": {}
        },
        {
          "output_type": "stream",
          "name": "stdout",
          "text": [
            "Saving NC_0.csv to NC_0.csv\n",
            "Saving NC_1.csv to NC_1.csv\n"
          ]
        }
      ]
    },
    {
      "cell_type": "code",
      "metadata": {
        "id": "YE422aTKQBYk"
      },
      "source": [
        "# Dataset is now stored in a Pandas Dataframe\n",
        "df0 = pd.read_csv(io.BytesIO(uploaded['NC_0.csv']), dtype={'recid':np.int64, 'givenname':str, 'surname':str, 'suburb':str, 'postcode':str})\n",
        "df1 = pd.read_csv(io.BytesIO(uploaded['NC_1.csv']), dtype={'recid':np.int64, 'givenname':str, 'surname':str, 'suburb':str, 'postcode':str})\n"
      ],
      "execution_count": 9,
      "outputs": []
    },
    {
      "cell_type": "code",
      "metadata": {
        "id": "FSEYMEmOPMVy",
        "outputId": "d78bf7bd-b629-42cc-dd52-470fbb5d13ac",
        "colab": {
          "base_uri": "https://localhost:8080/",
          "height": 423
        }
      },
      "source": [
        "df0"
      ],
      "execution_count": 10,
      "outputs": [
        {
          "output_type": "execute_result",
          "data": {
            "text/html": [
              "<div>\n",
              "<style scoped>\n",
              "    .dataframe tbody tr th:only-of-type {\n",
              "        vertical-align: middle;\n",
              "    }\n",
              "\n",
              "    .dataframe tbody tr th {\n",
              "        vertical-align: top;\n",
              "    }\n",
              "\n",
              "    .dataframe thead th {\n",
              "        text-align: right;\n",
              "    }\n",
              "</style>\n",
              "<table border=\"1\" class=\"dataframe\">\n",
              "  <thead>\n",
              "    <tr style=\"text-align: right;\">\n",
              "      <th></th>\n",
              "      <th>recid</th>\n",
              "      <th>givenname</th>\n",
              "      <th>surname</th>\n",
              "      <th>suburb</th>\n",
              "      <th>postcode</th>\n",
              "    </tr>\n",
              "  </thead>\n",
              "  <tbody>\n",
              "    <tr>\n",
              "      <th>0</th>\n",
              "      <td>7852009</td>\n",
              "      <td>kadelyn</td>\n",
              "      <td>gragnani</td>\n",
              "      <td>waxhaw</td>\n",
              "      <td>28|73</td>\n",
              "    </tr>\n",
              "    <tr>\n",
              "      <th>1</th>\n",
              "      <td>3138435</td>\n",
              "      <td>ronel</td>\n",
              "      <td>carter</td>\n",
              "      <td>washington</td>\n",
              "      <td>2788g</td>\n",
              "    </tr>\n",
              "    <tr>\n",
              "      <th>2</th>\n",
              "      <td>6117295</td>\n",
              "      <td>jason</td>\n",
              "      <td>roehrig</td>\n",
              "      <td>millers ceeek</td>\n",
              "      <td>286s1</td>\n",
              "    </tr>\n",
              "    <tr>\n",
              "      <th>3</th>\n",
              "      <td>6401695</td>\n",
              "      <td>antrea</td>\n",
              "      <td>mure</td>\n",
              "      <td>greensboro</td>\n",
              "      <td>27410</td>\n",
              "    </tr>\n",
              "    <tr>\n",
              "      <th>4</th>\n",
              "      <td>5202204</td>\n",
              "      <td>caedar</td>\n",
              "      <td>oliver</td>\n",
              "      <td>jacksonville</td>\n",
              "      <td>28542</td>\n",
              "    </tr>\n",
              "    <tr>\n",
              "      <th>...</th>\n",
              "      <td>...</td>\n",
              "      <td>...</td>\n",
              "      <td>...</td>\n",
              "      <td>...</td>\n",
              "      <td>...</td>\n",
              "    </tr>\n",
              "    <tr>\n",
              "      <th>999995</th>\n",
              "      <td>6614741</td>\n",
              "      <td>virginia</td>\n",
              "      <td>angle</td>\n",
              "      <td>charlotte</td>\n",
              "      <td>28205</td>\n",
              "    </tr>\n",
              "    <tr>\n",
              "      <th>999996</th>\n",
              "      <td>2840680</td>\n",
              "      <td>james</td>\n",
              "      <td>stone</td>\n",
              "      <td>eden</td>\n",
              "      <td>27288</td>\n",
              "    </tr>\n",
              "    <tr>\n",
              "      <th>999997</th>\n",
              "      <td>5781566</td>\n",
              "      <td>rebecca</td>\n",
              "      <td>allen</td>\n",
              "      <td>willow springs</td>\n",
              "      <td>27592</td>\n",
              "    </tr>\n",
              "    <tr>\n",
              "      <th>999998</th>\n",
              "      <td>1737677</td>\n",
              "      <td>julie</td>\n",
              "      <td>cummings</td>\n",
              "      <td>fremont</td>\n",
              "      <td>27830</td>\n",
              "    </tr>\n",
              "    <tr>\n",
              "      <th>999999</th>\n",
              "      <td>6586215</td>\n",
              "      <td>lewis</td>\n",
              "      <td>sutton</td>\n",
              "      <td>aberdeen</td>\n",
              "      <td>28315</td>\n",
              "    </tr>\n",
              "  </tbody>\n",
              "</table>\n",
              "<p>1000000 rows × 5 columns</p>\n",
              "</div>"
            ],
            "text/plain": [
              "          recid givenname   surname          suburb postcode\n",
              "0       7852009   kadelyn  gragnani          waxhaw    28|73\n",
              "1       3138435     ronel    carter      washington    2788g\n",
              "2       6117295     jason   roehrig   millers ceeek    286s1\n",
              "3       6401695    antrea      mure      greensboro    27410\n",
              "4       5202204    caedar    oliver    jacksonville    28542\n",
              "...         ...       ...       ...             ...      ...\n",
              "999995  6614741  virginia     angle       charlotte    28205\n",
              "999996  2840680     james     stone            eden    27288\n",
              "999997  5781566   rebecca     allen  willow springs    27592\n",
              "999998  1737677     julie  cummings         fremont    27830\n",
              "999999  6586215     lewis    sutton        aberdeen    28315\n",
              "\n",
              "[1000000 rows x 5 columns]"
            ]
          },
          "metadata": {},
          "execution_count": 10
        }
      ]
    },
    {
      "cell_type": "code",
      "metadata": {
        "id": "m7J8NAJdPMVz",
        "outputId": "891f70f1-b351-4ce8-d60d-0fcb631d2cb1",
        "colab": {
          "base_uri": "https://localhost:8080/"
        }
      },
      "source": [
        "df0.info()"
      ],
      "execution_count": 11,
      "outputs": [
        {
          "output_type": "stream",
          "name": "stdout",
          "text": [
            "<class 'pandas.core.frame.DataFrame'>\n",
            "RangeIndex: 1000000 entries, 0 to 999999\n",
            "Data columns (total 5 columns):\n",
            " #   Column     Non-Null Count    Dtype \n",
            "---  ------     --------------    ----- \n",
            " 0   recid      1000000 non-null  int64 \n",
            " 1   givenname  999928 non-null   object\n",
            " 2   surname    999980 non-null   object\n",
            " 3   suburb     999953 non-null   object\n",
            " 4   postcode   999942 non-null   object\n",
            "dtypes: int64(1), object(4)\n",
            "memory usage: 38.1+ MB\n"
          ]
        }
      ]
    },
    {
      "cell_type": "code",
      "metadata": {
        "id": "-DIEGDbPPMVz",
        "outputId": "733d3542-16cc-4eed-f66a-75121bb880b2",
        "colab": {
          "base_uri": "https://localhost:8080/",
          "height": 423
        }
      },
      "source": [
        "df1"
      ],
      "execution_count": 12,
      "outputs": [
        {
          "output_type": "execute_result",
          "data": {
            "text/html": [
              "<div>\n",
              "<style scoped>\n",
              "    .dataframe tbody tr th:only-of-type {\n",
              "        vertical-align: middle;\n",
              "    }\n",
              "\n",
              "    .dataframe tbody tr th {\n",
              "        vertical-align: top;\n",
              "    }\n",
              "\n",
              "    .dataframe thead th {\n",
              "        text-align: right;\n",
              "    }\n",
              "</style>\n",
              "<table border=\"1\" class=\"dataframe\">\n",
              "  <thead>\n",
              "    <tr style=\"text-align: right;\">\n",
              "      <th></th>\n",
              "      <th>recid</th>\n",
              "      <th>givenname</th>\n",
              "      <th>surname</th>\n",
              "      <th>suburb</th>\n",
              "      <th>postcode</th>\n",
              "    </tr>\n",
              "  </thead>\n",
              "  <tbody>\n",
              "    <tr>\n",
              "      <th>0</th>\n",
              "      <td>4194454</td>\n",
              "      <td>ashlev</td>\n",
              "      <td>batts</td>\n",
              "      <td>raleigh</td>\n",
              "      <td>276o6</td>\n",
              "    </tr>\n",
              "    <tr>\n",
              "      <th>1</th>\n",
              "      <td>4263711</td>\n",
              "      <td>tiffamy</td>\n",
              "      <td>perez</td>\n",
              "      <td>vass</td>\n",
              "      <td>28354</td>\n",
              "    </tr>\n",
              "    <tr>\n",
              "      <th>2</th>\n",
              "      <td>8089896</td>\n",
              "      <td>david</td>\n",
              "      <td>murry</td>\n",
              "      <td>charlogte</td>\n",
              "      <td>28268</td>\n",
              "    </tr>\n",
              "    <tr>\n",
              "      <th>3</th>\n",
              "      <td>7879554</td>\n",
              "      <td>shamkea</td>\n",
              "      <td>hutchinson</td>\n",
              "      <td>rocky mount</td>\n",
              "      <td>278o4</td>\n",
              "    </tr>\n",
              "    <tr>\n",
              "      <th>4</th>\n",
              "      <td>4338459</td>\n",
              "      <td>john</td>\n",
              "      <td>snyddr</td>\n",
              "      <td>louisburg</td>\n",
              "      <td>27s49</td>\n",
              "    </tr>\n",
              "    <tr>\n",
              "      <th>...</th>\n",
              "      <td>...</td>\n",
              "      <td>...</td>\n",
              "      <td>...</td>\n",
              "      <td>...</td>\n",
              "      <td>...</td>\n",
              "    </tr>\n",
              "    <tr>\n",
              "      <th>999995</th>\n",
              "      <td>3190016</td>\n",
              "      <td>clyde</td>\n",
              "      <td>wilder</td>\n",
              "      <td>raleigh</td>\n",
              "      <td>27614</td>\n",
              "    </tr>\n",
              "    <tr>\n",
              "      <th>999996</th>\n",
              "      <td>1890704</td>\n",
              "      <td>horace</td>\n",
              "      <td>swain</td>\n",
              "      <td>wilmington</td>\n",
              "      <td>28405</td>\n",
              "    </tr>\n",
              "    <tr>\n",
              "      <th>999997</th>\n",
              "      <td>6483474</td>\n",
              "      <td>peggy</td>\n",
              "      <td>honeycutt</td>\n",
              "      <td>angier</td>\n",
              "      <td>27501</td>\n",
              "    </tr>\n",
              "    <tr>\n",
              "      <th>999998</th>\n",
              "      <td>412753</td>\n",
              "      <td>ethel</td>\n",
              "      <td>hamm</td>\n",
              "      <td>elm city</td>\n",
              "      <td>27822</td>\n",
              "    </tr>\n",
              "    <tr>\n",
              "      <th>999999</th>\n",
              "      <td>1934431</td>\n",
              "      <td>william</td>\n",
              "      <td>adams</td>\n",
              "      <td>banner elk</td>\n",
              "      <td>28604</td>\n",
              "    </tr>\n",
              "  </tbody>\n",
              "</table>\n",
              "<p>1000000 rows × 5 columns</p>\n",
              "</div>"
            ],
            "text/plain": [
              "          recid givenname     surname       suburb postcode\n",
              "0       4194454    ashlev       batts      raleigh    276o6\n",
              "1       4263711   tiffamy       perez         vass    28354\n",
              "2       8089896     david       murry    charlogte    28268\n",
              "3       7879554   shamkea  hutchinson  rocky mount    278o4\n",
              "4       4338459      john      snyddr    louisburg    27s49\n",
              "...         ...       ...         ...          ...      ...\n",
              "999995  3190016     clyde      wilder      raleigh    27614\n",
              "999996  1890704    horace       swain   wilmington    28405\n",
              "999997  6483474     peggy   honeycutt       angier    27501\n",
              "999998   412753     ethel        hamm     elm city    27822\n",
              "999999  1934431   william       adams   banner elk    28604\n",
              "\n",
              "[1000000 rows x 5 columns]"
            ]
          },
          "metadata": {},
          "execution_count": 12
        }
      ]
    },
    {
      "cell_type": "code",
      "metadata": {
        "id": "icLcZrfkPMV0",
        "outputId": "b1217c99-8358-4534-a951-c55705242d7e",
        "colab": {
          "base_uri": "https://localhost:8080/"
        }
      },
      "source": [
        "df1.info()"
      ],
      "execution_count": 13,
      "outputs": [
        {
          "output_type": "stream",
          "name": "stdout",
          "text": [
            "<class 'pandas.core.frame.DataFrame'>\n",
            "RangeIndex: 1000000 entries, 0 to 999999\n",
            "Data columns (total 5 columns):\n",
            " #   Column     Non-Null Count    Dtype \n",
            "---  ------     --------------    ----- \n",
            " 0   recid      1000000 non-null  int64 \n",
            " 1   givenname  999942 non-null   object\n",
            " 2   surname    999983 non-null   object\n",
            " 3   suburb     999951 non-null   object\n",
            " 4   postcode   999943 non-null   object\n",
            "dtypes: int64(1), object(4)\n",
            "memory usage: 38.1+ MB\n"
          ]
        }
      ]
    },
    {
      "cell_type": "code",
      "metadata": {
        "id": "wQyYcJldPMV1",
        "outputId": "c586b1e8-25dc-4b15-9619-200345e473b1",
        "colab": {
          "base_uri": "https://localhost:8080/",
          "height": 423
        }
      },
      "source": [
        "df_comb = pd.concat([df0, df1])\n",
        "df_comb"
      ],
      "execution_count": 14,
      "outputs": [
        {
          "output_type": "execute_result",
          "data": {
            "text/html": [
              "<div>\n",
              "<style scoped>\n",
              "    .dataframe tbody tr th:only-of-type {\n",
              "        vertical-align: middle;\n",
              "    }\n",
              "\n",
              "    .dataframe tbody tr th {\n",
              "        vertical-align: top;\n",
              "    }\n",
              "\n",
              "    .dataframe thead th {\n",
              "        text-align: right;\n",
              "    }\n",
              "</style>\n",
              "<table border=\"1\" class=\"dataframe\">\n",
              "  <thead>\n",
              "    <tr style=\"text-align: right;\">\n",
              "      <th></th>\n",
              "      <th>recid</th>\n",
              "      <th>givenname</th>\n",
              "      <th>surname</th>\n",
              "      <th>suburb</th>\n",
              "      <th>postcode</th>\n",
              "    </tr>\n",
              "  </thead>\n",
              "  <tbody>\n",
              "    <tr>\n",
              "      <th>0</th>\n",
              "      <td>7852009</td>\n",
              "      <td>kadelyn</td>\n",
              "      <td>gragnani</td>\n",
              "      <td>waxhaw</td>\n",
              "      <td>28|73</td>\n",
              "    </tr>\n",
              "    <tr>\n",
              "      <th>1</th>\n",
              "      <td>3138435</td>\n",
              "      <td>ronel</td>\n",
              "      <td>carter</td>\n",
              "      <td>washington</td>\n",
              "      <td>2788g</td>\n",
              "    </tr>\n",
              "    <tr>\n",
              "      <th>2</th>\n",
              "      <td>6117295</td>\n",
              "      <td>jason</td>\n",
              "      <td>roehrig</td>\n",
              "      <td>millers ceeek</td>\n",
              "      <td>286s1</td>\n",
              "    </tr>\n",
              "    <tr>\n",
              "      <th>3</th>\n",
              "      <td>6401695</td>\n",
              "      <td>antrea</td>\n",
              "      <td>mure</td>\n",
              "      <td>greensboro</td>\n",
              "      <td>27410</td>\n",
              "    </tr>\n",
              "    <tr>\n",
              "      <th>4</th>\n",
              "      <td>5202204</td>\n",
              "      <td>caedar</td>\n",
              "      <td>oliver</td>\n",
              "      <td>jacksonville</td>\n",
              "      <td>28542</td>\n",
              "    </tr>\n",
              "    <tr>\n",
              "      <th>...</th>\n",
              "      <td>...</td>\n",
              "      <td>...</td>\n",
              "      <td>...</td>\n",
              "      <td>...</td>\n",
              "      <td>...</td>\n",
              "    </tr>\n",
              "    <tr>\n",
              "      <th>999995</th>\n",
              "      <td>3190016</td>\n",
              "      <td>clyde</td>\n",
              "      <td>wilder</td>\n",
              "      <td>raleigh</td>\n",
              "      <td>27614</td>\n",
              "    </tr>\n",
              "    <tr>\n",
              "      <th>999996</th>\n",
              "      <td>1890704</td>\n",
              "      <td>horace</td>\n",
              "      <td>swain</td>\n",
              "      <td>wilmington</td>\n",
              "      <td>28405</td>\n",
              "    </tr>\n",
              "    <tr>\n",
              "      <th>999997</th>\n",
              "      <td>6483474</td>\n",
              "      <td>peggy</td>\n",
              "      <td>honeycutt</td>\n",
              "      <td>angier</td>\n",
              "      <td>27501</td>\n",
              "    </tr>\n",
              "    <tr>\n",
              "      <th>999998</th>\n",
              "      <td>412753</td>\n",
              "      <td>ethel</td>\n",
              "      <td>hamm</td>\n",
              "      <td>elm city</td>\n",
              "      <td>27822</td>\n",
              "    </tr>\n",
              "    <tr>\n",
              "      <th>999999</th>\n",
              "      <td>1934431</td>\n",
              "      <td>william</td>\n",
              "      <td>adams</td>\n",
              "      <td>banner elk</td>\n",
              "      <td>28604</td>\n",
              "    </tr>\n",
              "  </tbody>\n",
              "</table>\n",
              "<p>2000000 rows × 5 columns</p>\n",
              "</div>"
            ],
            "text/plain": [
              "          recid givenname    surname         suburb postcode\n",
              "0       7852009   kadelyn   gragnani         waxhaw    28|73\n",
              "1       3138435     ronel     carter     washington    2788g\n",
              "2       6117295     jason    roehrig  millers ceeek    286s1\n",
              "3       6401695    antrea       mure     greensboro    27410\n",
              "4       5202204    caedar     oliver   jacksonville    28542\n",
              "...         ...       ...        ...            ...      ...\n",
              "999995  3190016     clyde     wilder        raleigh    27614\n",
              "999996  1890704    horace      swain     wilmington    28405\n",
              "999997  6483474     peggy  honeycutt         angier    27501\n",
              "999998   412753     ethel       hamm       elm city    27822\n",
              "999999  1934431   william      adams     banner elk    28604\n",
              "\n",
              "[2000000 rows x 5 columns]"
            ]
          },
          "metadata": {},
          "execution_count": 14
        }
      ]
    },
    {
      "cell_type": "code",
      "metadata": {
        "id": "5mJH7IBmPMV1",
        "outputId": "8da69a6d-72af-47a5-c7de-858c334d3cc1",
        "colab": {
          "base_uri": "https://localhost:8080/",
          "height": 423
        }
      },
      "source": [
        "answers = pd.DataFrame(columns=['recid_0', 'recid_1'])\n",
        "answers['recid_0'] = df0['recid']\n",
        "answers['recid_1'] = df1['recid']\n",
        "#answers.drop(answers.tail(1).index,inplace=True)\n",
        "answers"
      ],
      "execution_count": 15,
      "outputs": [
        {
          "output_type": "execute_result",
          "data": {
            "text/html": [
              "<div>\n",
              "<style scoped>\n",
              "    .dataframe tbody tr th:only-of-type {\n",
              "        vertical-align: middle;\n",
              "    }\n",
              "\n",
              "    .dataframe tbody tr th {\n",
              "        vertical-align: top;\n",
              "    }\n",
              "\n",
              "    .dataframe thead th {\n",
              "        text-align: right;\n",
              "    }\n",
              "</style>\n",
              "<table border=\"1\" class=\"dataframe\">\n",
              "  <thead>\n",
              "    <tr style=\"text-align: right;\">\n",
              "      <th></th>\n",
              "      <th>recid_0</th>\n",
              "      <th>recid_1</th>\n",
              "    </tr>\n",
              "  </thead>\n",
              "  <tbody>\n",
              "    <tr>\n",
              "      <th>0</th>\n",
              "      <td>7852009</td>\n",
              "      <td>4194454</td>\n",
              "    </tr>\n",
              "    <tr>\n",
              "      <th>1</th>\n",
              "      <td>3138435</td>\n",
              "      <td>4263711</td>\n",
              "    </tr>\n",
              "    <tr>\n",
              "      <th>2</th>\n",
              "      <td>6117295</td>\n",
              "      <td>8089896</td>\n",
              "    </tr>\n",
              "    <tr>\n",
              "      <th>3</th>\n",
              "      <td>6401695</td>\n",
              "      <td>7879554</td>\n",
              "    </tr>\n",
              "    <tr>\n",
              "      <th>4</th>\n",
              "      <td>5202204</td>\n",
              "      <td>4338459</td>\n",
              "    </tr>\n",
              "    <tr>\n",
              "      <th>...</th>\n",
              "      <td>...</td>\n",
              "      <td>...</td>\n",
              "    </tr>\n",
              "    <tr>\n",
              "      <th>999995</th>\n",
              "      <td>6614741</td>\n",
              "      <td>3190016</td>\n",
              "    </tr>\n",
              "    <tr>\n",
              "      <th>999996</th>\n",
              "      <td>2840680</td>\n",
              "      <td>1890704</td>\n",
              "    </tr>\n",
              "    <tr>\n",
              "      <th>999997</th>\n",
              "      <td>5781566</td>\n",
              "      <td>6483474</td>\n",
              "    </tr>\n",
              "    <tr>\n",
              "      <th>999998</th>\n",
              "      <td>1737677</td>\n",
              "      <td>412753</td>\n",
              "    </tr>\n",
              "    <tr>\n",
              "      <th>999999</th>\n",
              "      <td>6586215</td>\n",
              "      <td>1934431</td>\n",
              "    </tr>\n",
              "  </tbody>\n",
              "</table>\n",
              "<p>1000000 rows × 2 columns</p>\n",
              "</div>"
            ],
            "text/plain": [
              "        recid_0  recid_1\n",
              "0       7852009  4194454\n",
              "1       3138435  4263711\n",
              "2       6117295  8089896\n",
              "3       6401695  7879554\n",
              "4       5202204  4338459\n",
              "...         ...      ...\n",
              "999995  6614741  3190016\n",
              "999996  2840680  1890704\n",
              "999997  5781566  6483474\n",
              "999998  1737677   412753\n",
              "999999  6586215  1934431\n",
              "\n",
              "[1000000 rows x 2 columns]"
            ]
          },
          "metadata": {},
          "execution_count": 15
        }
      ]
    },
    {
      "cell_type": "code",
      "metadata": {
        "id": "zvZ9SMAyPMV1"
      },
      "source": [
        "answers2 = df_comb['recid']"
      ],
      "execution_count": 16,
      "outputs": []
    },
    {
      "cell_type": "code",
      "metadata": {
        "id": "T5DoOEE2PMV2"
      },
      "source": [
        "df1.drop(columns = ['recid'], inplace = True)\n",
        "df0.drop(columns = ['recid'], inplace = True)\n",
        "df_comb.drop(columns = ['recid'], inplace = True)"
      ],
      "execution_count": 17,
      "outputs": []
    },
    {
      "cell_type": "markdown",
      "metadata": {
        "id": "g-mWjmXmPMV2"
      },
      "source": [
        "#### Clean Data"
      ]
    },
    {
      "cell_type": "code",
      "metadata": {
        "id": "0afZwnlkPMV2"
      },
      "source": [
        "## check for nulls in all fields and drop them - dont do this yet though, will mess up answer index\n",
        "#df1.dropna(how = 'all', inplace = True)\n",
        "#df0.dropna(how = 'all', inplace = Ture)\n",
        "#df_comb.dropna(how = 'all', inplace = True)"
      ],
      "execution_count": null,
      "outputs": []
    },
    {
      "cell_type": "code",
      "metadata": {
        "id": "sYenZKV2PMV2",
        "outputId": "cde7ba57-603b-4651-dc6b-bf9a10ac9211",
        "colab": {
          "base_uri": "https://localhost:8080/"
        }
      },
      "source": [
        "col_list = df1.columns\n",
        "col_list[:-1]"
      ],
      "execution_count": 18,
      "outputs": [
        {
          "output_type": "execute_result",
          "data": {
            "text/plain": [
              "Index(['givenname', 'surname', 'suburb'], dtype='object')"
            ]
          },
          "metadata": {},
          "execution_count": 18
        }
      ]
    },
    {
      "cell_type": "code",
      "metadata": {
        "id": "o8VSgdcTPMV2"
      },
      "source": [
        "#### clean up individual dfs"
      ],
      "execution_count": null,
      "outputs": []
    },
    {
      "cell_type": "code",
      "metadata": {
        "id": "1LlSiFlYPMV3"
      },
      "source": [
        "# process string fields (not zip code) and remove numbers and special characters\n",
        "# str() conversion seems superfluous here (is also slow!) but there is some weird data that throws errors in the dataset w/o it \n",
        "for col in col_list[:-1]:\n",
        "    df1.loc[:,col] = df1[col].apply(lambda x: str(x)).str.replace('[^A-Za-z]+', '', regex=True)\n",
        "    df0.loc[:,col] = df0[col].apply(lambda x: str(x)).str.replace('[^A-Za-z]+', '', regex=True)"
      ],
      "execution_count": 19,
      "outputs": []
    },
    {
      "cell_type": "code",
      "metadata": {
        "id": "KUAm88YjPMV3"
      },
      "source": [
        "# process zip code field and remove letters and special characters\n",
        "df1.loc[:,'postcode'] = df1['postcode'].apply(lambda x: str(x)).str.replace('o', '0', regex=True).replace('[^0-9]+', '', regex=True)\n",
        "df0.loc[:,'postcode'] = df0['postcode'].apply(lambda x: str(x)).str.replace('o', '0', regex=True).replace('[^0-9]+', '', regex=True)"
      ],
      "execution_count": 21,
      "outputs": []
    },
    {
      "cell_type": "code",
      "metadata": {
        "id": "4vb0LOb_T3h0",
        "outputId": "454bfb71-98d1-477c-e5a5-51b71f264bc6",
        "colab": {
          "base_uri": "https://localhost:8080/",
          "height": 206
        }
      },
      "source": [
        "df0.head()"
      ],
      "execution_count": 22,
      "outputs": [
        {
          "output_type": "execute_result",
          "data": {
            "text/html": [
              "<div>\n",
              "<style scoped>\n",
              "    .dataframe tbody tr th:only-of-type {\n",
              "        vertical-align: middle;\n",
              "    }\n",
              "\n",
              "    .dataframe tbody tr th {\n",
              "        vertical-align: top;\n",
              "    }\n",
              "\n",
              "    .dataframe thead th {\n",
              "        text-align: right;\n",
              "    }\n",
              "</style>\n",
              "<table border=\"1\" class=\"dataframe\">\n",
              "  <thead>\n",
              "    <tr style=\"text-align: right;\">\n",
              "      <th></th>\n",
              "      <th>givenname</th>\n",
              "      <th>surname</th>\n",
              "      <th>suburb</th>\n",
              "      <th>postcode</th>\n",
              "    </tr>\n",
              "  </thead>\n",
              "  <tbody>\n",
              "    <tr>\n",
              "      <th>0</th>\n",
              "      <td>kadelyn</td>\n",
              "      <td>gragnani</td>\n",
              "      <td>waxhaw</td>\n",
              "      <td>2873</td>\n",
              "    </tr>\n",
              "    <tr>\n",
              "      <th>1</th>\n",
              "      <td>ronel</td>\n",
              "      <td>carter</td>\n",
              "      <td>washington</td>\n",
              "      <td>2788</td>\n",
              "    </tr>\n",
              "    <tr>\n",
              "      <th>2</th>\n",
              "      <td>jason</td>\n",
              "      <td>roehrig</td>\n",
              "      <td>millersceeek</td>\n",
              "      <td>2861</td>\n",
              "    </tr>\n",
              "    <tr>\n",
              "      <th>3</th>\n",
              "      <td>antrea</td>\n",
              "      <td>mure</td>\n",
              "      <td>greensboro</td>\n",
              "      <td>27410</td>\n",
              "    </tr>\n",
              "    <tr>\n",
              "      <th>4</th>\n",
              "      <td>caedar</td>\n",
              "      <td>oliver</td>\n",
              "      <td>jacksonville</td>\n",
              "      <td>28542</td>\n",
              "    </tr>\n",
              "  </tbody>\n",
              "</table>\n",
              "</div>"
            ],
            "text/plain": [
              "  givenname   surname        suburb postcode\n",
              "0   kadelyn  gragnani        waxhaw     2873\n",
              "1     ronel    carter    washington     2788\n",
              "2     jason   roehrig  millersceeek     2861\n",
              "3    antrea      mure    greensboro    27410\n",
              "4    caedar    oliver  jacksonville    28542"
            ]
          },
          "metadata": {},
          "execution_count": 22
        }
      ]
    },
    {
      "cell_type": "code",
      "metadata": {
        "id": "XO-q7FsyPMV3",
        "outputId": "8e74ac74-6894-4444-849c-8d1b1e986590",
        "colab": {
          "base_uri": "https://localhost:8080/",
          "height": 206
        }
      },
      "source": [
        "df1.head()"
      ],
      "execution_count": 23,
      "outputs": [
        {
          "output_type": "execute_result",
          "data": {
            "text/html": [
              "<div>\n",
              "<style scoped>\n",
              "    .dataframe tbody tr th:only-of-type {\n",
              "        vertical-align: middle;\n",
              "    }\n",
              "\n",
              "    .dataframe tbody tr th {\n",
              "        vertical-align: top;\n",
              "    }\n",
              "\n",
              "    .dataframe thead th {\n",
              "        text-align: right;\n",
              "    }\n",
              "</style>\n",
              "<table border=\"1\" class=\"dataframe\">\n",
              "  <thead>\n",
              "    <tr style=\"text-align: right;\">\n",
              "      <th></th>\n",
              "      <th>givenname</th>\n",
              "      <th>surname</th>\n",
              "      <th>suburb</th>\n",
              "      <th>postcode</th>\n",
              "    </tr>\n",
              "  </thead>\n",
              "  <tbody>\n",
              "    <tr>\n",
              "      <th>0</th>\n",
              "      <td>ashlev</td>\n",
              "      <td>batts</td>\n",
              "      <td>raleigh</td>\n",
              "      <td>27606</td>\n",
              "    </tr>\n",
              "    <tr>\n",
              "      <th>1</th>\n",
              "      <td>tiffamy</td>\n",
              "      <td>perez</td>\n",
              "      <td>vass</td>\n",
              "      <td>28354</td>\n",
              "    </tr>\n",
              "    <tr>\n",
              "      <th>2</th>\n",
              "      <td>david</td>\n",
              "      <td>murry</td>\n",
              "      <td>charlogte</td>\n",
              "      <td>28268</td>\n",
              "    </tr>\n",
              "    <tr>\n",
              "      <th>3</th>\n",
              "      <td>shamkea</td>\n",
              "      <td>hutchinson</td>\n",
              "      <td>rockymount</td>\n",
              "      <td>27804</td>\n",
              "    </tr>\n",
              "    <tr>\n",
              "      <th>4</th>\n",
              "      <td>john</td>\n",
              "      <td>snyddr</td>\n",
              "      <td>louisburg</td>\n",
              "      <td>2749</td>\n",
              "    </tr>\n",
              "  </tbody>\n",
              "</table>\n",
              "</div>"
            ],
            "text/plain": [
              "  givenname     surname      suburb postcode\n",
              "0    ashlev       batts     raleigh    27606\n",
              "1   tiffamy       perez        vass    28354\n",
              "2     david       murry   charlogte    28268\n",
              "3   shamkea  hutchinson  rockymount    27804\n",
              "4      john      snyddr   louisburg     2749"
            ]
          },
          "metadata": {},
          "execution_count": 23
        }
      ]
    },
    {
      "cell_type": "code",
      "metadata": {
        "id": "sYbqrbn5PMV4"
      },
      "source": [
        "# Save files as .csvs\n",
        "df0.to_csv('nc0_clean.csv', index=False)\n",
        "df1.to_csv('nc1_clean.csv', index=False)"
      ],
      "execution_count": 26,
      "outputs": []
    },
    {
      "cell_type": "code",
      "metadata": {
        "id": "Sg-mrP3vPMV4"
      },
      "source": [
        "#### clean up combined file"
      ],
      "execution_count": null,
      "outputs": []
    },
    {
      "cell_type": "code",
      "metadata": {
        "id": "TlgC4T65PMV4"
      },
      "source": [
        "# process string fields (not zip code) and remove numbers and special characters\n",
        "# str() conversion seems superfluous here (is also slow!) but there is some weird data that throws errors in the dataset w/o it \n",
        "for col in col_list[:-1]:\n",
        "    df_comb.loc[:,col] = df_comb[col].apply(lambda x: str(x)).str.replace('[^A-Za-z]+', '', regex=True)"
      ],
      "execution_count": null,
      "outputs": []
    },
    {
      "cell_type": "code",
      "metadata": {
        "id": "MfYxcWS4PMV4",
        "outputId": "3499cc93-bb44-4f7c-8ad3-f64e2714b5cb"
      },
      "source": [
        "# process zip code field and remove letters and special characters\n",
        "df_comb.loc[:,'postcode'] = df_comb['postcode'].apply(lambda x: str(x)).str.replace('o', '0', regex=True).replace('[^0-9]+', '', regex=True)\n",
        "df_comb.head()"
      ],
      "execution_count": null,
      "outputs": [
        {
          "data": {
            "text/html": [
              "<div>\n",
              "<style scoped>\n",
              "    .dataframe tbody tr th:only-of-type {\n",
              "        vertical-align: middle;\n",
              "    }\n",
              "\n",
              "    .dataframe tbody tr th {\n",
              "        vertical-align: top;\n",
              "    }\n",
              "\n",
              "    .dataframe thead th {\n",
              "        text-align: right;\n",
              "    }\n",
              "</style>\n",
              "<table border=\"1\" class=\"dataframe\">\n",
              "  <thead>\n",
              "    <tr style=\"text-align: right;\">\n",
              "      <th></th>\n",
              "      <th>givenname</th>\n",
              "      <th>surname</th>\n",
              "      <th>suburb</th>\n",
              "      <th>postcode</th>\n",
              "    </tr>\n",
              "  </thead>\n",
              "  <tbody>\n",
              "    <tr>\n",
              "      <th>0</th>\n",
              "      <td>kadelyn</td>\n",
              "      <td>gragnani</td>\n",
              "      <td>waxhaw</td>\n",
              "      <td>2873</td>\n",
              "    </tr>\n",
              "    <tr>\n",
              "      <th>1</th>\n",
              "      <td>ronel</td>\n",
              "      <td>carter</td>\n",
              "      <td>washington</td>\n",
              "      <td>2788</td>\n",
              "    </tr>\n",
              "    <tr>\n",
              "      <th>2</th>\n",
              "      <td>jason</td>\n",
              "      <td>roehrig</td>\n",
              "      <td>millersceeek</td>\n",
              "      <td>2861</td>\n",
              "    </tr>\n",
              "    <tr>\n",
              "      <th>3</th>\n",
              "      <td>antrea</td>\n",
              "      <td>mure</td>\n",
              "      <td>greensboro</td>\n",
              "      <td>27410</td>\n",
              "    </tr>\n",
              "    <tr>\n",
              "      <th>4</th>\n",
              "      <td>caedar</td>\n",
              "      <td>oliver</td>\n",
              "      <td>jacksonville</td>\n",
              "      <td>28542</td>\n",
              "    </tr>\n",
              "  </tbody>\n",
              "</table>\n",
              "</div>"
            ],
            "text/plain": [
              "  givenname   surname        suburb postcode\n",
              "0   kadelyn  gragnani        waxhaw     2873\n",
              "1     ronel    carter    washington     2788\n",
              "2     jason   roehrig  millersceeek     2861\n",
              "3    antrea      mure    greensboro    27410\n",
              "4    caedar    oliver  jacksonville    28542"
            ]
          },
          "execution_count": 24,
          "metadata": {},
          "output_type": "execute_result"
        }
      ]
    },
    {
      "cell_type": "code",
      "metadata": {
        "id": "6er8FPKxPMV4"
      },
      "source": [
        "# save combined df as .csv\n",
        "df_comb.to_csv('combined_clean.zip', index=False)"
      ],
      "execution_count": null,
      "outputs": []
    },
    {
      "cell_type": "code",
      "metadata": {
        "id": "gmvDXQGcPMV4"
      },
      "source": [
        ""
      ],
      "execution_count": null,
      "outputs": []
    }
  ]
}