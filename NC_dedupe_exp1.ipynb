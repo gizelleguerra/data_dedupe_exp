{
 "cells": [
  {
   "cell_type": "markdown",
   "metadata": {},
   "source": [
    "### Dedupe Example with NC Voter Data"
   ]
  },
  {
   "cell_type": "code",
   "execution_count": 1,
   "metadata": {},
   "outputs": [],
   "source": [
    "import os\n",
    "import csv\n",
    "import re\n",
    "import logging\n",
    "import optparse\n",
    "\n",
    "import dedupe\n",
    "from unidecode import unidecode"
   ]
  },
  {
   "cell_type": "code",
   "execution_count": 2,
   "metadata": {},
   "outputs": [],
   "source": [
    "from future.utils import viewitems\n",
    "\n",
    "import csv\n",
    "import collections\n",
    "import itertools"
   ]
  },
  {
   "cell_type": "code",
   "execution_count": 3,
   "metadata": {},
   "outputs": [],
   "source": [
    "def preProcess(column):\n",
    "    \"\"\"\n",
    "    Do a little bit of data cleaning with the help of Unidecode and Regex.\n",
    "    Things like casing, extra spaces, quotes and new lines can be ignored.\n",
    "    \"\"\"\n",
    "    column = unidecode(column)\n",
    "    column = re.sub('  +', ' ', column)\n",
    "    column = re.sub('\\n', ' ', column)\n",
    "    column = column.strip().strip('\"').strip(\"'\").lower().strip()\n",
    "    # If data is missing, indicate that by setting the value to `None`\n",
    "    if not column:\n",
    "        column = None\n",
    "    return column"
   ]
  },
  {
   "cell_type": "code",
   "execution_count": 4,
   "metadata": {},
   "outputs": [],
   "source": [
    "def readData(filename):\n",
    "    \"\"\"\n",
    "    Read in our data from a CSV file and create a dictionary of records,\n",
    "    where the key is a unique record ID and each value is dict\n",
    "    \"\"\"\n",
    "\n",
    "    data_d = {}\n",
    "    with open(filename) as f:\n",
    "        reader = csv.DictReader(f)\n",
    "        for row in reader:\n",
    "            clean_row = [(k, preProcess(v)) for (k, v) in row.items()]\n",
    "            row_id = int(row['Id'])\n",
    "            data_d[row_id] = dict(clean_row)\n",
    "\n",
    "    return data_d"
   ]
  },
  {
   "cell_type": "code",
   "execution_count": 6,
   "metadata": {},
   "outputs": [
    {
     "name": "stdout",
     "output_type": "stream",
     "text": [
      "importing data ...\n"
     ]
    }
   ],
   "source": [
    "# ## Setup\n",
    "file_path = '/Users/gizelleguerra/Documents/fedex_cip/dedupe_NC_exp1/'\n",
    "input_file = 'combined_clean.csv'\n",
    "output_file = 'NCdd1_output.csv'\n",
    "settings_file = 'NCdd1_learned_settings'\n",
    "training_file = 'NCdd1_training.json'\n",
    "\n",
    "print('importing data ...')\n",
    "data_d = readData(file_path + input_file)"
   ]
  },
  {
   "cell_type": "code",
   "execution_count": 7,
   "metadata": {},
   "outputs": [
    {
     "name": "stderr",
     "output_type": "stream",
     "text": [
      "INFO:dedupe.canopy_index:Removing stop word ma\n",
      "INFO:dedupe.canopy_index:Removing stop word er\n",
      "INFO:dedupe.canopy_index:Removing stop word ar\n",
      "INFO:dedupe.canopy_index:Removing stop word on\n",
      "INFO:dedupe.canopy_index:Removing stop word an\n",
      "INFO:dedupe.canopy_index:Removing stop word ll\n",
      "INFO:dedupe.canopy_index:Removing stop word le\n",
      "INFO:dedupe.canopy_index:Removing stop word en\n",
      "INFO:dedupe.canopy_index:Removing stop word el\n",
      "INFO:dedupe.canopy_index:Removing stop word re\n",
      "INFO:dedupe.canopy_index:Removing stop word in\n",
      "INFO:dedupe.canopy_index:Removing stop word ar\n",
      "INFO:dedupe.canopy_index:Removing stop word an\n",
      "INFO:dedupe.canopy_index:Removing stop word ha\n",
      "INFO:dedupe.canopy_index:Removing stop word ri\n",
      "INFO:dedupe.training:Final predicate set:\n",
      "INFO:dedupe.training:TfidfNGramCanopyPredicate: (0.8, surname)\n",
      "givenname : josephine\n",
      "surname : hinson\n",
      "suburb : hillsborough\n",
      "postcode : 27278\n",
      "\n",
      "givenname : joel\n",
      "surname : hinson\n",
      "suburb : salisbury\n",
      "postcode : 28146\n",
      "\n",
      "0/10 positive, 0/10 negative\n",
      "Do these records refer to the same thing?\n",
      "(y)es / (n)o / (u)nsure / (f)inished\n"
     ]
    },
    {
     "name": "stdout",
     "output_type": "stream",
     "text": [
      "starting active labeling...\n"
     ]
    },
    {
     "name": "stdin",
     "output_type": "stream",
     "text": [
      " n\n"
     ]
    },
    {
     "name": "stderr",
     "output_type": "stream",
     "text": [
      "givenname : robert\n",
      "surname : cox\n",
      "suburb : graham\n",
      "postcode : 27253\n",
      "\n",
      "givenname : robert\n",
      "surname : holcombe\n",
      "suburb : clemmons\n",
      "postcode : 27012\n",
      "\n",
      "0/10 positive, 1/10 negative\n",
      "Do these records refer to the same thing?\n",
      "(y)es / (n)o / (u)nsure / (f)inished / (p)revious\n"
     ]
    },
    {
     "name": "stdin",
     "output_type": "stream",
     "text": [
      " n\n"
     ]
    },
    {
     "name": "stderr",
     "output_type": "stream",
     "text": [
      "givenname : john\n",
      "surname : webster\n",
      "suburb : pittsboro\n",
      "postcode : 27312\n",
      "\n",
      "givenname : john\n",
      "surname : reyes\n",
      "suburb : pittsboro\n",
      "postcode : 27312\n",
      "\n",
      "0/10 positive, 2/10 negative\n",
      "Do these records refer to the same thing?\n",
      "(y)es / (n)o / (u)nsure / (f)inished / (p)revious\n"
     ]
    },
    {
     "name": "stdin",
     "output_type": "stream",
     "text": [
      " n\n"
     ]
    },
    {
     "name": "stderr",
     "output_type": "stream",
     "text": [
      "givenname : kenneth\n",
      "surname : covington\n",
      "suburb : raleigh\n",
      "postcode : 27603\n",
      "\n",
      "givenname : kenneth\n",
      "surname : white\n",
      "suburb : raleigh\n",
      "postcode : 27613\n",
      "\n",
      "0/10 positive, 3/10 negative\n",
      "Do these records refer to the same thing?\n",
      "(y)es / (n)o / (u)nsure / (f)inished / (p)revious\n"
     ]
    },
    {
     "name": "stdin",
     "output_type": "stream",
     "text": [
      " n\n"
     ]
    },
    {
     "name": "stderr",
     "output_type": "stream",
     "text": [
      "givenname : tremont\n",
      "surname : taylor\n",
      "suburb : kittrell\n",
      "postcode : 27544\n",
      "\n",
      "givenname : geraldine\n",
      "surname : taylor\n",
      "suburb : kittrell\n",
      "postcode : 27544\n",
      "\n",
      "0/10 positive, 4/10 negative\n",
      "Do these records refer to the same thing?\n",
      "(y)es / (n)o / (u)nsure / (f)inished / (p)revious\n"
     ]
    },
    {
     "name": "stdin",
     "output_type": "stream",
     "text": [
      " n\n"
     ]
    },
    {
     "name": "stderr",
     "output_type": "stream",
     "text": [
      "givenname : marcus\n",
      "surname : chavis\n",
      "suburb : lumberton\n",
      "postcode : 28360\n",
      "\n",
      "givenname : donald\n",
      "surname : chavis\n",
      "suburb : lumberton\n",
      "postcode : 28360\n",
      "\n",
      "0/10 positive, 5/10 negative\n",
      "Do these records refer to the same thing?\n",
      "(y)es / (n)o / (u)nsure / (f)inished / (p)revious\n"
     ]
    },
    {
     "name": "stdin",
     "output_type": "stream",
     "text": [
      " n\n"
     ]
    },
    {
     "name": "stderr",
     "output_type": "stream",
     "text": [
      "givenname : keith\n",
      "surname : williams\n",
      "suburb : elizabethcity\n",
      "postcode : 27909\n",
      "\n",
      "givenname : keith\n",
      "surname : williams\n",
      "suburb : charlotte\n",
      "postcode : 28208\n",
      "\n",
      "0/10 positive, 6/10 negative\n",
      "Do these records refer to the same thing?\n",
      "(y)es / (n)o / (u)nsure / (f)inished / (p)revious\n"
     ]
    },
    {
     "name": "stdin",
     "output_type": "stream",
     "text": [
      " n\n"
     ]
    },
    {
     "name": "stderr",
     "output_type": "stream",
     "text": [
      "givenname : kayla\n",
      "surname : williams\n",
      "suburb : jacksonville\n",
      "postcode : 28540\n",
      "\n",
      "givenname : kay\n",
      "surname : williams\n",
      "suburb : greensboro\n",
      "postcode : 27407\n",
      "\n",
      "0/10 positive, 7/10 negative\n",
      "Do these records refer to the same thing?\n",
      "(y)es / (n)o / (u)nsure / (f)inished / (p)revious\n"
     ]
    },
    {
     "name": "stdin",
     "output_type": "stream",
     "text": [
      " n\n"
     ]
    },
    {
     "name": "stderr",
     "output_type": "stream",
     "text": [
      "givenname : shanea\n",
      "surname : brown\n",
      "suburb : greensaboro\n",
      "postcode : 27405\n",
      "\n",
      "givenname : charles\n",
      "surname : brown\n",
      "suburb : greensboro\n",
      "postcode : 27409\n",
      "\n",
      "0/10 positive, 8/10 negative\n",
      "Do these records refer to the same thing?\n",
      "(y)es / (n)o / (u)nsure / (f)inished / (p)revious\n"
     ]
    },
    {
     "name": "stdin",
     "output_type": "stream",
     "text": [
      " n\n"
     ]
    },
    {
     "name": "stderr",
     "output_type": "stream",
     "text": [
      "givenname : karen\n",
      "surname : johnson\n",
      "suburb : denver\n",
      "postcode : 28037\n",
      "\n",
      "givenname : darin\n",
      "surname : johnson\n",
      "suburb : bessemercity\n",
      "postcode : 28016\n",
      "\n",
      "0/10 positive, 9/10 negative\n",
      "Do these records refer to the same thing?\n",
      "(y)es / (n)o / (u)nsure / (f)inished / (p)revious\n"
     ]
    },
    {
     "name": "stdin",
     "output_type": "stream",
     "text": [
      " n\n"
     ]
    },
    {
     "name": "stderr",
     "output_type": "stream",
     "text": [
      "givenname : terrence\n",
      "surname : williams\n",
      "suburb : kinston\n",
      "postcode : 28504\n",
      "\n",
      "givenname : lawrence\n",
      "surname : williams\n",
      "suburb : windsor\n",
      "postcode : 27983\n",
      "\n",
      "0/10 positive, 10/10 negative\n",
      "Do these records refer to the same thing?\n",
      "(y)es / (n)o / (u)nsure / (f)inished / (p)revious\n"
     ]
    },
    {
     "name": "stdin",
     "output_type": "stream",
     "text": [
      " n\n"
     ]
    },
    {
     "name": "stderr",
     "output_type": "stream",
     "text": [
      "givenname : blaine\n",
      "surname : hill\n",
      "suburb : greensboro\n",
      "postcode : 27406\n",
      "\n",
      "givenname : chyami\n",
      "surname : hill\n",
      "suburb : greensboro\n",
      "postcode : 27405\n",
      "\n",
      "0/10 positive, 11/10 negative\n",
      "Do these records refer to the same thing?\n",
      "(y)es / (n)o / (u)nsure / (f)inished / (p)revious\n"
     ]
    },
    {
     "name": "stdin",
     "output_type": "stream",
     "text": [
      " n\n"
     ]
    },
    {
     "name": "stderr",
     "output_type": "stream",
     "text": [
      "givenname : myra\n",
      "surname : miller\n",
      "suburb : huntersville\n",
      "postcode : 28078\n",
      "\n",
      "givenname : mary\n",
      "surname : miller\n",
      "suburb : newbern\n",
      "postcode : 28562\n",
      "\n",
      "0/10 positive, 12/10 negative\n",
      "Do these records refer to the same thing?\n",
      "(y)es / (n)o / (u)nsure / (f)inished / (p)revious\n"
     ]
    },
    {
     "name": "stdin",
     "output_type": "stream",
     "text": [
      " n\n"
     ]
    },
    {
     "name": "stderr",
     "output_type": "stream",
     "text": [
      "givenname : ashton\n",
      "surname : cole\n",
      "suburb : kernersville\n",
      "postcode : 27284\n",
      "\n",
      "givenname : ashlee\n",
      "surname : cole\n",
      "suburb : fayetteville\n",
      "postcode : 28301\n",
      "\n",
      "0/10 positive, 13/10 negative\n",
      "Do these records refer to the same thing?\n",
      "(y)es / (n)o / (u)nsure / (f)inished / (p)revious\n"
     ]
    },
    {
     "name": "stdin",
     "output_type": "stream",
     "text": [
      " n\n"
     ]
    },
    {
     "name": "stderr",
     "output_type": "stream",
     "text": [
      "givenname : lia\n",
      "surname : jones\n",
      "suburb : hillsborough\n",
      "postcode : 2778\n",
      "\n",
      "givenname : michelle\n",
      "surname : jones\n",
      "suburb : greensboro\n",
      "postcode : 27407\n",
      "\n",
      "0/10 positive, 14/10 negative\n",
      "Do these records refer to the same thing?\n",
      "(y)es / (n)o / (u)nsure / (f)inished / (p)revious\n"
     ]
    },
    {
     "name": "stdin",
     "output_type": "stream",
     "text": [
      " n\n"
     ]
    },
    {
     "name": "stderr",
     "output_type": "stream",
     "text": [
      "givenname : james\n",
      "surname : brown\n",
      "suburb : sylva\n",
      "postcode : 28779\n",
      "\n",
      "givenname : madison\n",
      "surname : brown\n",
      "suburb : chinagrove\n",
      "postcode : 28023\n",
      "\n",
      "0/10 positive, 15/10 negative\n",
      "Do these records refer to the same thing?\n",
      "(y)es / (n)o / (u)nsure / (f)inished / (p)revious\n"
     ]
    },
    {
     "name": "stdin",
     "output_type": "stream",
     "text": [
      " n\n"
     ]
    },
    {
     "name": "stderr",
     "output_type": "stream",
     "text": [
      "givenname : christopher\n",
      "surname : evans\n",
      "suburb : laurinburg\n",
      "postcode : 28352\n",
      "\n",
      "givenname : nina\n",
      "surname : evans\n",
      "suburb : ash\n",
      "postcode : 28420\n",
      "\n",
      "0/10 positive, 16/10 negative\n",
      "Do these records refer to the same thing?\n",
      "(y)es / (n)o / (u)nsure / (f)inished / (p)revious\n"
     ]
    },
    {
     "name": "stdin",
     "output_type": "stream",
     "text": [
      " n\n"
     ]
    },
    {
     "name": "stderr",
     "output_type": "stream",
     "text": [
      "givenname : joanne\n",
      "surname : powell\n",
      "suburb : rockymount\n",
      "postcode : 27804\n",
      "\n",
      "givenname : johnny\n",
      "surname : powell\n",
      "suburb : columbia\n",
      "postcode : 27925\n",
      "\n",
      "0/10 positive, 17/10 negative\n",
      "Do these records refer to the same thing?\n",
      "(y)es / (n)o / (u)nsure / (f)inished / (p)revious\n"
     ]
    },
    {
     "name": "stdin",
     "output_type": "stream",
     "text": [
      " n\n"
     ]
    },
    {
     "name": "stderr",
     "output_type": "stream",
     "text": [
      "givenname : tracie\n",
      "surname : parker\n",
      "suburb : wallace\n",
      "postcode : 28466\n",
      "\n",
      "givenname : crystal\n",
      "surname : parker\n",
      "suburb : dallas\n",
      "postcode : 28034\n",
      "\n",
      "0/10 positive, 18/10 negative\n",
      "Do these records refer to the same thing?\n",
      "(y)es / (n)o / (u)nsure / (f)inished / (p)revious\n"
     ]
    },
    {
     "name": "stdin",
     "output_type": "stream",
     "text": [
      " n\n"
     ]
    },
    {
     "name": "stderr",
     "output_type": "stream",
     "text": [
      "givenname : vicki\n",
      "surname : pappas\n",
      "suburb : durham\n",
      "postcode : 27701\n",
      "\n",
      "givenname : lisa\n",
      "surname : pappas\n",
      "suburb : fuquayvarina\n",
      "postcode : 27526\n",
      "\n",
      "0/10 positive, 19/10 negative\n",
      "Do these records refer to the same thing?\n",
      "(y)es / (n)o / (u)nsure / (f)inished / (p)revious\n"
     ]
    },
    {
     "name": "stdin",
     "output_type": "stream",
     "text": [
      " n\n"
     ]
    },
    {
     "name": "stderr",
     "output_type": "stream",
     "text": [
      "givenname : johnnie\n",
      "surname : moore\n",
      "suburb : pikeville\n",
      "postcode : 27863\n",
      "\n",
      "givenname : stanley\n",
      "surname : moore\n",
      "suburb : asheville\n",
      "postcode : 28805\n",
      "\n",
      "0/10 positive, 20/10 negative\n",
      "Do these records refer to the same thing?\n",
      "(y)es / (n)o / (u)nsure / (f)inished / (p)revious\n"
     ]
    },
    {
     "name": "stdin",
     "output_type": "stream",
     "text": [
      " n\n"
     ]
    },
    {
     "name": "stderr",
     "output_type": "stream",
     "text": [
      "givenname : pollie\n",
      "surname : williams\n",
      "suburb : washington\n",
      "postcode : 27889\n",
      "\n",
      "givenname : michael\n",
      "surname : williams\n",
      "suburb : burlington\n",
      "postcode : 27215\n",
      "\n",
      "0/10 positive, 21/10 negative\n",
      "Do these records refer to the same thing?\n",
      "(y)es / (n)o / (u)nsure / (f)inished / (p)revious\n"
     ]
    },
    {
     "name": "stdin",
     "output_type": "stream",
     "text": [
      " n\n"
     ]
    },
    {
     "name": "stderr",
     "output_type": "stream",
     "text": [
      "givenname : samuel\n",
      "surname : campbell\n",
      "suburb : graham\n",
      "postcode : 27253\n",
      "\n",
      "givenname : carol\n",
      "surname : campbell\n",
      "suburb : franklinville\n",
      "postcode : 27248\n",
      "\n",
      "0/10 positive, 22/10 negative\n",
      "Do these records refer to the same thing?\n",
      "(y)es / (n)o / (u)nsure / (f)inished / (p)revious\n"
     ]
    },
    {
     "name": "stdin",
     "output_type": "stream",
     "text": [
      " n\n"
     ]
    },
    {
     "name": "stderr",
     "output_type": "stream",
     "text": [
      "givenname : james\n",
      "surname : ingram\n",
      "suburb : rockingham\n",
      "postcode : 28379\n",
      "\n",
      "givenname : margaret\n",
      "surname : ingram\n",
      "suburb : boone\n",
      "postcode : 28607\n",
      "\n",
      "0/10 positive, 23/10 negative\n",
      "Do these records refer to the same thing?\n",
      "(y)es / (n)o / (u)nsure / (f)inished / (p)revious\n"
     ]
    },
    {
     "name": "stdin",
     "output_type": "stream",
     "text": [
      " n\n"
     ]
    },
    {
     "name": "stderr",
     "output_type": "stream",
     "text": [
      "givenname : kay\n",
      "surname : miller\n",
      "suburb : mocksville\n",
      "postcode : 27028\n",
      "\n",
      "givenname : frederick\n",
      "surname : miller\n",
      "suburb : council\n",
      "postcode : 28434\n",
      "\n",
      "0/10 positive, 24/10 negative\n",
      "Do these records refer to the same thing?\n",
      "(y)es / (n)o / (u)nsure / (f)inished / (p)revious\n"
     ]
    },
    {
     "name": "stdin",
     "output_type": "stream",
     "text": [
      " n\n"
     ]
    },
    {
     "name": "stderr",
     "output_type": "stream",
     "text": [
      "givenname : sanrra\n",
      "surname : jackson\n",
      "suburb : kernersville\n",
      "postcode : 27286\n",
      "\n",
      "givenname : ray\n",
      "surname : jackson\n",
      "suburb : raleigh\n",
      "postcode : 27617\n",
      "\n",
      "0/10 positive, 25/10 negative\n",
      "Do these records refer to the same thing?\n",
      "(y)es / (n)o / (u)nsure / (f)inished / (p)revious\n"
     ]
    },
    {
     "name": "stdin",
     "output_type": "stream",
     "text": [
      " n\n"
     ]
    },
    {
     "name": "stderr",
     "output_type": "stream",
     "text": [
      "givenname : william\n",
      "surname : brown\n",
      "suburb : gastonia\n",
      "postcode : 28054\n",
      "\n",
      "givenname : troy\n",
      "surname : brown\n",
      "suburb : winstonsalem\n",
      "postcode : 27105\n",
      "\n",
      "0/10 positive, 26/10 negative\n",
      "Do these records refer to the same thing?\n",
      "(y)es / (n)o / (u)nsure / (f)inished / (p)revious\n"
     ]
    },
    {
     "name": "stdin",
     "output_type": "stream",
     "text": [
      " n\n"
     ]
    },
    {
     "name": "stderr",
     "output_type": "stream",
     "text": [
      "givenname : lakeisha\n",
      "surname : johnson\n",
      "suburb : elizabethcity\n",
      "postcode : 27909\n",
      "\n",
      "givenname : ned\n",
      "surname : johnson\n",
      "suburb : supply\n",
      "postcode : 28462\n",
      "\n",
      "0/10 positive, 27/10 negative\n",
      "Do these records refer to the same thing?\n",
      "(y)es / (n)o / (u)nsure / (f)inished / (p)revious\n"
     ]
    },
    {
     "name": "stdin",
     "output_type": "stream",
     "text": [
      " n\n"
     ]
    },
    {
     "name": "stderr",
     "output_type": "stream",
     "text": [
      "givenname : leroy\n",
      "surname : davis\n",
      "suburb : newbernl\n",
      "postcode : 2856\n",
      "\n",
      "givenname : tyrone\n",
      "surname : davis\n",
      "suburb : cary\n",
      "postcode : 27519\n",
      "\n",
      "0/10 positive, 28/10 negative\n",
      "Do these records refer to the same thing?\n",
      "(y)es / (n)o / (u)nsure / (f)inished / (p)revious\n"
     ]
    },
    {
     "name": "stdin",
     "output_type": "stream",
     "text": [
      " f\n"
     ]
    },
    {
     "name": "stderr",
     "output_type": "stream",
     "text": [
      "Finished labeling\n",
      "INFO:rlr.crossvalidation:using cross validation to find optimum alpha...\n",
      "INFO:rlr.crossvalidation:optimum alpha: 0.000010, score 0.0\n",
      "INFO:dedupe.training:Final predicate set:\n",
      "INFO:dedupe.training:(SimplePredicate: (suffixArray, surname), TfidfTextCanopyPredicate: (0.2, givenname), SimplePredicate: (oneGramFingerprint, suburb))\n"
     ]
    }
   ],
   "source": [
    "# If a settings file already exists, we'll just load that and skip training\n",
    "if os.path.exists(settings_file):\n",
    "    print('reading from', settings_file)\n",
    "    with open(settings_file, 'rb') as f:\n",
    "        deduper = dedupe.StaticDedupe(f)\n",
    "else:\n",
    "    # ## Training\n",
    "\n",
    "    # Define the fields dedupe will pay attention to\n",
    "    fields = [\n",
    "        {'field': 'givenname', 'type': 'String', 'has missing': True},\n",
    "        {'field': 'surname', 'type': 'String', 'has missing': True},\n",
    "        {'field': 'suburb', 'type': 'String', 'has missing': True},\n",
    "        {'field': 'postcode', 'type': 'String', 'has missing': True},\n",
    "        ]\n",
    "\n",
    "    # Create a new deduper object and pass our data model to it.\n",
    "    deduper = dedupe.Dedupe(fields)\n",
    "\n",
    "    # If we have training data saved from a previous run of dedupe,\n",
    "    # look for it and load it in.\n",
    "    # __Note:__ if you want to train from scratch, delete the training_file\n",
    "    if os.path.exists(training_file):\n",
    "        print('reading labeled examples from ', training_file)\n",
    "        with open(training_file, 'rb') as f:\n",
    "            deduper.prepare_training(data_d, f)\n",
    "    else:\n",
    "        deduper.prepare_training(data_d)\n",
    "\n",
    "    # ## Active learning\n",
    "    # Dedupe will find the next pair of records\n",
    "    # it is least certain about and ask you to label them as duplicates\n",
    "    # or not.\n",
    "    # use 'y', 'n' and 'u' keys to flag duplicates\n",
    "    # press 'f' when you are finished\n",
    "    print('starting active labeling...')\n",
    "\n",
    "    dedupe.console_label(deduper)\n",
    "\n",
    "    # Using the examples we just labeled, train the deduper and learn\n",
    "    # blocking predicates\n",
    "    deduper.train()\n",
    "\n",
    "    # When finished, save our training to disk\n",
    "    with open(training_file, 'w') as tf:\n",
    "        deduper.write_training(tf)\n",
    "\n",
    "    # Save our weights and predicates to disk.  If the settings file\n",
    "    # exists, we will skip all the training and learning next time we run\n",
    "    # this file.\n",
    "    with open(settings_file, 'wb') as sf:\n",
    "        deduper.write_settings(sf)"
   ]
  },
  {
   "cell_type": "code",
   "execution_count": 8,
   "metadata": {},
   "outputs": [
    {
     "name": "stdout",
     "output_type": "stream",
     "text": [
      "clustering...\n"
     ]
    },
    {
     "name": "stderr",
     "output_type": "stream",
     "text": [
      "INFO:dedupe.blocking:10000, 0.3757322 seconds\n",
      "INFO:dedupe.blocking:20000, 0.6839332 seconds\n",
      "INFO:dedupe.blocking:30000, 0.9808442 seconds\n",
      "INFO:dedupe.blocking:40000, 1.2603442 seconds\n",
      "INFO:dedupe.blocking:50000, 1.5343122 seconds\n",
      "INFO:dedupe.blocking:60000, 1.8140642 seconds\n",
      "INFO:dedupe.blocking:70000, 2.0856432 seconds\n",
      "INFO:dedupe.blocking:80000, 2.3533172 seconds\n",
      "INFO:dedupe.blocking:90000, 2.6198722 seconds\n",
      "INFO:dedupe.blocking:100000, 3.0630152 seconds\n",
      "INFO:dedupe.blocking:110000, 3.7005772 seconds\n",
      "INFO:dedupe.blocking:120000, 4.0975862 seconds\n",
      "INFO:dedupe.blocking:130000, 4.3631582 seconds\n",
      "INFO:dedupe.blocking:140000, 4.6114852 seconds\n",
      "INFO:dedupe.blocking:150000, 4.8611612 seconds\n",
      "INFO:dedupe.blocking:160000, 5.1058702 seconds\n",
      "INFO:dedupe.blocking:170000, 5.3601942 seconds\n",
      "INFO:dedupe.blocking:180000, 5.6023422 seconds\n",
      "INFO:dedupe.blocking:190000, 5.8457942 seconds\n",
      "INFO:dedupe.blocking:200000, 6.0885082 seconds\n",
      "INFO:dedupe.blocking:210000, 6.3388992 seconds\n",
      "INFO:dedupe.blocking:220000, 6.6017242 seconds\n",
      "INFO:dedupe.blocking:230000, 6.8450012 seconds\n",
      "INFO:dedupe.blocking:240000, 7.0931642 seconds\n",
      "INFO:dedupe.blocking:250000, 7.3354832 seconds\n",
      "INFO:dedupe.blocking:260000, 7.5802612 seconds\n",
      "INFO:dedupe.blocking:270000, 7.8214042 seconds\n",
      "INFO:dedupe.blocking:280000, 8.0635362 seconds\n",
      "INFO:dedupe.blocking:290000, 8.3105602 seconds\n",
      "INFO:dedupe.blocking:300000, 8.7749682 seconds\n",
      "INFO:dedupe.blocking:310000, 9.2206972 seconds\n",
      "INFO:dedupe.blocking:320000, 9.5064022 seconds\n",
      "INFO:dedupe.blocking:330000, 9.7610532 seconds\n",
      "INFO:dedupe.blocking:340000, 10.0193212 seconds\n",
      "INFO:dedupe.blocking:350000, 10.2796692 seconds\n",
      "INFO:dedupe.blocking:360000, 10.5325662 seconds\n",
      "INFO:dedupe.blocking:370000, 10.7836762 seconds\n",
      "INFO:dedupe.blocking:380000, 11.0369252 seconds\n",
      "INFO:dedupe.blocking:390000, 11.2894132 seconds\n",
      "INFO:dedupe.blocking:400000, 11.5469562 seconds\n",
      "INFO:dedupe.blocking:410000, 11.8025132 seconds\n",
      "INFO:dedupe.blocking:420000, 12.0583212 seconds\n",
      "INFO:dedupe.blocking:430000, 12.3111042 seconds\n",
      "INFO:dedupe.blocking:440000, 12.5690632 seconds\n",
      "INFO:dedupe.blocking:450000, 12.8278082 seconds\n",
      "INFO:dedupe.blocking:460000, 13.0842792 seconds\n",
      "INFO:dedupe.blocking:470000, 13.3547282 seconds\n",
      "INFO:dedupe.blocking:480000, 13.6741832 seconds\n",
      "INFO:dedupe.blocking:490000, 14.0267282 seconds\n",
      "INFO:dedupe.blocking:500000, 14.2722562 seconds\n",
      "INFO:dedupe.blocking:510000, 14.5161812 seconds\n",
      "INFO:dedupe.blocking:520000, 14.7552862 seconds\n",
      "INFO:dedupe.blocking:530000, 14.9976282 seconds\n",
      "INFO:dedupe.blocking:540000, 15.2487242 seconds\n",
      "INFO:dedupe.blocking:550000, 15.4929722 seconds\n",
      "INFO:dedupe.blocking:560000, 15.7481092 seconds\n",
      "INFO:dedupe.blocking:570000, 16.0096372 seconds\n",
      "INFO:dedupe.blocking:580000, 16.2751972 seconds\n",
      "INFO:dedupe.blocking:590000, 16.5302132 seconds\n",
      "INFO:dedupe.blocking:600000, 16.7830242 seconds\n",
      "INFO:dedupe.blocking:610000, 17.0288582 seconds\n",
      "INFO:dedupe.blocking:620000, 17.2695352 seconds\n",
      "INFO:dedupe.blocking:630000, 17.5261762 seconds\n",
      "INFO:dedupe.blocking:640000, 17.7678402 seconds\n",
      "INFO:dedupe.blocking:650000, 18.0308072 seconds\n",
      "INFO:dedupe.blocking:660000, 18.2721292 seconds\n",
      "INFO:dedupe.blocking:670000, 18.5147542 seconds\n",
      "INFO:dedupe.blocking:680000, 18.7572612 seconds\n",
      "INFO:dedupe.blocking:690000, 19.0060332 seconds\n",
      "INFO:dedupe.blocking:700000, 19.2478832 seconds\n",
      "INFO:dedupe.blocking:710000, 19.5006112 seconds\n",
      "INFO:dedupe.blocking:720000, 19.8003492 seconds\n",
      "INFO:dedupe.blocking:730000, 20.1855532 seconds\n",
      "INFO:dedupe.blocking:740000, 20.5769262 seconds\n",
      "INFO:dedupe.blocking:750000, 20.8190302 seconds\n",
      "INFO:dedupe.blocking:760000, 21.0639732 seconds\n",
      "INFO:dedupe.blocking:770000, 21.3122872 seconds\n",
      "INFO:dedupe.blocking:780000, 21.5553782 seconds\n",
      "INFO:dedupe.blocking:790000, 21.7986152 seconds\n",
      "INFO:dedupe.blocking:800000, 22.0621832 seconds\n",
      "INFO:dedupe.blocking:810000, 22.3061182 seconds\n",
      "INFO:dedupe.blocking:820000, 22.5967742 seconds\n",
      "INFO:dedupe.blocking:830000, 22.8638022 seconds\n",
      "INFO:dedupe.blocking:840000, 23.1044182 seconds\n",
      "INFO:dedupe.blocking:850000, 23.3432462 seconds\n",
      "INFO:dedupe.blocking:860000, 23.5849372 seconds\n",
      "INFO:dedupe.blocking:870000, 23.8258992 seconds\n",
      "INFO:dedupe.blocking:880000, 24.0813602 seconds\n",
      "INFO:dedupe.blocking:890000, 24.3248712 seconds\n",
      "INFO:dedupe.blocking:900000, 24.5714912 seconds\n",
      "INFO:dedupe.blocking:910000, 24.8354922 seconds\n",
      "INFO:dedupe.blocking:920000, 25.0825182 seconds\n",
      "INFO:dedupe.blocking:930000, 25.3955192 seconds\n",
      "INFO:dedupe.blocking:940000, 25.6635402 seconds\n",
      "INFO:dedupe.blocking:950000, 26.0061422 seconds\n",
      "INFO:dedupe.blocking:960000, 26.4527562 seconds\n",
      "INFO:dedupe.blocking:970000, 26.8650242 seconds\n",
      "INFO:dedupe.blocking:980000, 27.1122542 seconds\n",
      "INFO:dedupe.blocking:990000, 27.3634882 seconds\n"
     ]
    },
    {
     "name": "stdout",
     "output_type": "stream",
     "text": [
      "# duplicate sets 1000000\n"
     ]
    }
   ],
   "source": [
    "# ## Clustering\n",
    "\n",
    "# `partition` will return sets of records that dedupe\n",
    "# believes are all referring to the same entity.\n",
    "\n",
    "print('clustering...')\n",
    "clustered_dupes = deduper.partition(data_d, 0.5)\n",
    "\n",
    "print('# duplicate sets', len(clustered_dupes))"
   ]
  },
  {
   "cell_type": "code",
   "execution_count": 9,
   "metadata": {},
   "outputs": [],
   "source": [
    "# ## Writing Results\n",
    "\n",
    "# Write our original data back out to a CSV with a new column called\n",
    "# 'Cluster ID' which indicates which records refer to each other.\n",
    "\n",
    "cluster_membership = {}\n",
    "for cluster_id, (records, scores) in enumerate(clustered_dupes):\n",
    "    for record_id, score in zip(records, scores):\n",
    "        cluster_membership[record_id] = {\n",
    "            \"Cluster ID\": cluster_id,\n",
    "            \"confidence_score\": score\n",
    "        }\n",
    "\n",
    "out_f = file_path + output_file\n",
    "in_f = file_path + input_file\n",
    "\n",
    "with open(out_f, 'w') as f_output, open(in_f) as f_input:\n",
    "\n",
    "    reader = csv.DictReader(f_input)\n",
    "    fieldnames = ['Cluster ID', 'confidence_score'] + reader.fieldnames\n",
    "\n",
    "    writer = csv.DictWriter(f_output, fieldnames=fieldnames)\n",
    "    writer.writeheader()\n",
    "\n",
    "    for row in reader:\n",
    "        row_id = int(row['Id'])\n",
    "        row.update(cluster_membership[row_id])\n",
    "        writer.writerow(row)"
   ]
  },
  {
   "cell_type": "markdown",
   "metadata": {},
   "source": [
    "### Evaluation"
   ]
  },
  {
   "cell_type": "code",
   "execution_count": 19,
   "metadata": {},
   "outputs": [],
   "source": [
    "def evaluateDuplicates(found_dupes, true_dupes):\n",
    "    true_positives = found_dupes.intersection(true_dupes)\n",
    "    false_positives = found_dupes.difference(true_dupes)\n",
    "    uncovered_dupes = true_dupes.difference(found_dupes)\n",
    "\n",
    "    print('found duplicate')\n",
    "    print(len(found_dupes))\n",
    "\n",
    "    print('precision')\n",
    "    print(1 - len(false_positives) / float(len(found_dupes)))\n",
    "\n",
    "    print('recall')\n",
    "    print(len(true_positives) / float(len(true_dupes)))"
   ]
  },
  {
   "cell_type": "code",
   "execution_count": 20,
   "metadata": {},
   "outputs": [],
   "source": [
    "def dupePairs(filename, rowname) :\n",
    "    dupe_d = collections.defaultdict(list)\n",
    "\n",
    "    with open(filename) as f:\n",
    "        reader = csv.DictReader(f, delimiter=',', quotechar='\"')\n",
    "        for row in reader:\n",
    "            dupe_d[row[rowname]].append(row['Id'])\n",
    "\n",
    "    if 'x' in dupe_d :\n",
    "        del dupe_d['x']\n",
    "\n",
    "    dupe_s = set([])\n",
    "    for (unique_id, cluster) in viewitems(dupe_d) :\n",
    "        if len(cluster) > 1:\n",
    "            for pair in itertools.combinations(cluster, 2):\n",
    "                dupe_s.add(frozenset(pair))\n",
    "\n",
    "    return dupe_s"
   ]
  },
  {
   "cell_type": "code",
   "execution_count": 21,
   "metadata": {},
   "outputs": [],
   "source": [
    "manual_clusters = 'csv_example_input_with_true_ids.csv'\n",
    "dedupe_clusters = 'csv_example_output.csv'\n",
    "\n",
    "manual_clusters_fp = file_path + manual_clusters\n",
    "dedupe_clusters_fp = file_path + dedupe_clusters"
   ]
  },
  {
   "cell_type": "code",
   "execution_count": 22,
   "metadata": {},
   "outputs": [],
   "source": [
    "true_dupes = dupePairs(manual_clusters_fp, 'True Id')\n",
    "test_dupes = dupePairs(dedupe_clusters_fp, 'Cluster ID')"
   ]
  },
  {
   "cell_type": "code",
   "execution_count": 23,
   "metadata": {},
   "outputs": [
    {
     "name": "stdout",
     "output_type": "stream",
     "text": [
      "found duplicate\n",
      "3087\n",
      "precision\n",
      "0.98607061872368\n",
      "recall\n",
      "0.46065375302663436\n"
     ]
    }
   ],
   "source": [
    "evaluateDuplicates(test_dupes, true_dupes)"
   ]
  },
  {
   "cell_type": "code",
   "execution_count": null,
   "metadata": {},
   "outputs": [],
   "source": []
  }
 ],
 "metadata": {
  "kernelspec": {
   "display_name": "Python 3",
   "language": "python",
   "name": "python3"
  },
  "language_info": {
   "codemirror_mode": {
    "name": "ipython",
    "version": 3
   },
   "file_extension": ".py",
   "mimetype": "text/x-python",
   "name": "python",
   "nbconvert_exporter": "python",
   "pygments_lexer": "ipython3",
   "version": "3.6.8"
  }
 },
 "nbformat": 4,
 "nbformat_minor": 2
}
