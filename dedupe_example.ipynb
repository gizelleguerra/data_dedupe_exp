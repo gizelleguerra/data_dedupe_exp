{
 "cells": [
  {
   "cell_type": "code",
   "execution_count": 1,
   "metadata": {},
   "outputs": [],
   "source": [
    "import os\n",
    "import csv\n",
    "import re\n",
    "import logging\n",
    "import optparse\n",
    "\n",
    "import dedupe\n",
    "from unidecode import unidecode"
   ]
  },
  {
   "cell_type": "code",
   "execution_count": 17,
   "metadata": {},
   "outputs": [],
   "source": [
    "from future.utils import viewitems\n",
    "\n",
    "import csv\n",
    "import collections\n",
    "import itertools"
   ]
  },
  {
   "cell_type": "markdown",
   "metadata": {},
   "source": [
    "### Dedupe Example\n",
    "source: https://github.com/gizelleguerra/dedupe-examples/tree/master/csv_example"
   ]
  },
  {
   "cell_type": "code",
   "execution_count": 2,
   "metadata": {},
   "outputs": [],
   "source": [
    "def preProcess(column):\n",
    "    \"\"\"\n",
    "    Do a little bit of data cleaning with the help of Unidecode and Regex.\n",
    "    Things like casing, extra spaces, quotes and new lines can be ignored.\n",
    "    \"\"\"\n",
    "    column = unidecode(column)\n",
    "    column = re.sub('  +', ' ', column)\n",
    "    column = re.sub('\\n', ' ', column)\n",
    "    column = column.strip().strip('\"').strip(\"'\").lower().strip()\n",
    "    # If data is missing, indicate that by setting the value to `None`\n",
    "    if not column:\n",
    "        column = None\n",
    "    return column"
   ]
  },
  {
   "cell_type": "code",
   "execution_count": 3,
   "metadata": {},
   "outputs": [],
   "source": [
    "def readData(filename):\n",
    "    \"\"\"\n",
    "    Read in our data from a CSV file and create a dictionary of records,\n",
    "    where the key is a unique record ID and each value is dict\n",
    "    \"\"\"\n",
    "\n",
    "    data_d = {}\n",
    "    with open(filename) as f:\n",
    "        reader = csv.DictReader(f)\n",
    "        for row in reader:\n",
    "            clean_row = [(k, preProcess(v)) for (k, v) in row.items()]\n",
    "            row_id = int(row['Id'])\n",
    "            data_d[row_id] = dict(clean_row)\n",
    "\n",
    "    return data_d"
   ]
  },
  {
   "cell_type": "code",
   "execution_count": null,
   "metadata": {},
   "outputs": [],
   "source": [
    "if __name__ == '__main__':\n",
    "\n",
    "    # ## Logging\n",
    "\n",
    "    # Dedupe uses Python logging to show or suppress verbose output. This\n",
    "    # code block lets you change the level of loggin on the command\n",
    "    # line. You don't need it if you don't want that. To enable verbose\n",
    "    # logging, run `python examples/csv_example/csv_example.py -v`\n",
    "    optp = optparse.OptionParser()\n",
    "    optp.add_option('-v', '--verbose', dest='verbose', action='count',\n",
    "                    help='Increase verbosity (specify multiple times for more)'\n",
    "                    )\n",
    "    (opts, args) = optp.parse_args()\n",
    "    log_level = logging.WARNING\n",
    "    if opts.verbose:\n",
    "        if opts.verbose == 1:\n",
    "            log_level = logging.INFO\n",
    "        elif opts.verbose >= 2:\n",
    "            log_level = logging.DEBUG\n",
    "    logging.getLogger().setLevel(log_level)\n",
    "\n",
    "    # ## Setup\n",
    "\n",
    "    input_file = 'csv_example_messy_input.csv'\n",
    "    output_file = 'csv_example_output.csv'\n",
    "    settings_file = 'csv_example_learned_settings'\n",
    "    training_file = 'csv_example_training.json'\n",
    "\n",
    "    print('importing data ...')\n",
    "    data_d = readData(input_file)\n",
    "\n",
    "    # If a settings file already exists, we'll just load that and skip training\n",
    "    if os.path.exists(settings_file):\n",
    "        print('reading from', settings_file)\n",
    "        with open(settings_file, 'rb') as f:\n",
    "            deduper = dedupe.StaticDedupe(f)\n",
    "    else:\n",
    "        # ## Training\n",
    "\n",
    "        # Define the fields dedupe will pay attention to\n",
    "        fields = [\n",
    "            {'field': 'Site name', 'type': 'String'},\n",
    "            {'field': 'Address', 'type': 'String'},\n",
    "            {'field': 'Zip', 'type': 'Exact', 'has missing': True},\n",
    "            {'field': 'Phone', 'type': 'String', 'has missing': True},\n",
    "            ]\n",
    "\n",
    "        # Create a new deduper object and pass our data model to it.\n",
    "        deduper = dedupe.Dedupe(fields)\n",
    "\n",
    "        # If we have training data saved from a previous run of dedupe,\n",
    "        # look for it and load it in.\n",
    "        # __Note:__ if you want to train from scratch, delete the training_file\n",
    "        if os.path.exists(training_file):\n",
    "            print('reading labeled examples from ', training_file)\n",
    "            with open(training_file, 'rb') as f:\n",
    "                deduper.prepare_training(data_d, f)\n",
    "        else:\n",
    "            deduper.prepare_training(data_d)\n",
    "\n",
    "        # ## Active learning\n",
    "        # Dedupe will find the next pair of records\n",
    "        # it is least certain about and ask you to label them as duplicates\n",
    "        # or not.\n",
    "        # use 'y', 'n' and 'u' keys to flag duplicates\n",
    "        # press 'f' when you are finished\n",
    "        print('starting active labeling...')\n",
    "\n",
    "        dedupe.console_label(deduper)\n",
    "\n",
    "        # Using the examples we just labeled, train the deduper and learn\n",
    "        # blocking predicates\n",
    "        deduper.train()\n",
    "\n",
    "        # When finished, save our training to disk\n",
    "        with open(training_file, 'w') as tf:\n",
    "            deduper.write_training(tf)\n",
    "\n",
    "        # Save our weights and predicates to disk.  If the settings file\n",
    "        # exists, we will skip all the training and learning next time we run\n",
    "        # this file.\n",
    "        with open(settings_file, 'wb') as sf:\n",
    "            deduper.write_settings(sf)\n",
    "\n",
    "    # ## Clustering\n",
    "\n",
    "    # `partition` will return sets of records that dedupe\n",
    "    # believes are all referring to the same entity.\n",
    "\n",
    "    print('clustering...')\n",
    "    clustered_dupes = deduper.partition(data_d, 0.5)\n",
    "\n",
    "    print('# duplicate sets', len(clustered_dupes))\n",
    "\n",
    "    # ## Writing Results\n",
    "\n",
    "    # Write our original data back out to a CSV with a new column called\n",
    "    # 'Cluster ID' which indicates which records refer to each other.\n",
    "\n",
    "    cluster_membership = {}\n",
    "    for cluster_id, (records, scores) in enumerate(clustered_dupes):\n",
    "        for record_id, score in zip(records, scores):\n",
    "            cluster_membership[record_id] = {\n",
    "                \"Cluster ID\": cluster_id,\n",
    "                \"confidence_score\": score\n",
    "            }\n",
    "\n",
    "    with open(output_file, 'w') as f_output, open(input_file) as f_input:\n",
    "\n",
    "        reader = csv.DictReader(f_input)\n",
    "        fieldnames = ['Cluster ID', 'confidence_score'] + reader.fieldnames\n",
    "\n",
    "        writer = csv.DictWriter(f_output, fieldnames=fieldnames)\n",
    "        writer.writeheader()\n",
    "\n",
    "        for row in reader:\n",
    "            row_id = int(row['Id'])\n",
    "            row.update(cluster_membership[row_id])\n",
    "            writer.writerow(row)\n"
   ]
  },
  {
   "cell_type": "code",
   "execution_count": 4,
   "metadata": {},
   "outputs": [
    {
     "name": "stderr",
     "output_type": "stream",
     "text": [
      "Usage: ipykernel_launcher.py [options]\n",
      "\n",
      "ipykernel_launcher.py: error: no such option: -f\n"
     ]
    },
    {
     "ename": "SystemExit",
     "evalue": "2",
     "output_type": "error",
     "traceback": [
      "An exception has occurred, use %tb to see the full traceback.\n",
      "\u001b[0;31mSystemExit\u001b[0m\u001b[0;31m:\u001b[0m 2\n"
     ]
    },
    {
     "name": "stderr",
     "output_type": "stream",
     "text": [
      "/Applications/anaconda3/lib/python3.6/site-packages/IPython/core/interactiveshell.py:3275: UserWarning: To exit: use 'exit', 'quit', or Ctrl-D.\n",
      "  warn(\"To exit: use 'exit', 'quit', or Ctrl-D.\", stacklevel=1)\n"
     ]
    }
   ],
   "source": [
    "# ## Logging\n",
    "\n",
    "# Dedupe uses Python logging to show or suppress verbose output. This\n",
    "# code block lets you change the level of loggin on the command\n",
    "# line. You don't need it if you don't want that. To enable verbose\n",
    "# logging, run `python examples/csv_example/csv_example.py -v`\n",
    "optp = optparse.OptionParser()\n",
    "optp.add_option('-v', '--verbose', dest='verbose', action='count',\n",
    "                help='Increase verbosity (specify multiple times for more)'\n",
    "                )\n",
    "(opts, args) = optp.parse_args()\n",
    "log_level = logging.WARNING\n",
    "if opts.verbose:\n",
    "    if opts.verbose == 1:\n",
    "        log_level = logging.INFO\n",
    "    elif opts.verbose >= 2:\n",
    "        log_level = logging.DEBUG\n",
    "logging.getLogger().setLevel(log_level)"
   ]
  },
  {
   "cell_type": "code",
   "execution_count": 9,
   "metadata": {},
   "outputs": [
    {
     "name": "stdout",
     "output_type": "stream",
     "text": [
      "importing data ...\n"
     ]
    }
   ],
   "source": [
    "# ## Setup\n",
    "file_path = '/Users/gizelleguerra/Documents/fedex_cip/csv_example/'\n",
    "input_file = 'csv_example_messy_input.csv'\n",
    "output_file = 'csv_example_output.csv'\n",
    "settings_file = 'csv_example_learned_settings'\n",
    "training_file = 'csv_example_training.json'\n",
    "\n",
    "print('importing data ...')\n",
    "data_d = readData(file_path + input_file)"
   ]
  },
  {
   "cell_type": "code",
   "execution_count": 10,
   "metadata": {},
   "outputs": [
    {
     "data": {
      "text/plain": [
       "dict"
      ]
     },
     "execution_count": 10,
     "metadata": {},
     "output_type": "execute_result"
    }
   ],
   "source": [
    "type(data_d)"
   ]
  },
  {
   "cell_type": "code",
   "execution_count": 11,
   "metadata": {},
   "outputs": [
    {
     "name": "stderr",
     "output_type": "stream",
     "text": [
      "INFO:dedupe.canopy_index:Removing stop word  s\n",
      "INFO:dedupe.training:Final predicate set:\n",
      "INFO:dedupe.training:SimplePredicate: (wholeFieldPredicate, Site name)\n"
     ]
    },
    {
     "name": "stdout",
     "output_type": "stream",
     "text": [
      "starting active labeling...\n"
     ]
    },
    {
     "name": "stderr",
     "output_type": "stream",
     "text": [
      "Site name : chicago youth centers - rachel's learning center #1\n",
      "Address : 3430 w roosevelt rd\n",
      "Zip : None\n",
      "Phone : None\n",
      "\n",
      "Site name : chicago youth centers rachel's 1\n",
      "Address : 3430 w roosevelt rd\n",
      "Zip : 60624\n",
      "Phone : 5331837\n",
      "\n",
      "0/10 positive, 0/10 negative\n",
      "Do these records refer to the same thing?\n",
      "(y)es / (n)o / (u)nsure / (f)inished\n"
     ]
    },
    {
     "name": "stdin",
     "output_type": "stream",
     "text": [
      " y\n"
     ]
    },
    {
     "name": "stderr",
     "output_type": "stream",
     "text": [
      "Site name : trinity united church of christ - trinity united\n",
      "Address : 532 w 95th st\n",
      "Zip : None\n",
      "Phone : 4883511\n",
      "\n",
      "Site name : trinity united church of christ trinity ucc\n",
      "Address : 532 w 95th st\n",
      "Zip : 60628\n",
      "Phone : None\n",
      "\n",
      "1/10 positive, 0/10 negative\n",
      "Do these records refer to the same thing?\n",
      "(y)es / (n)o / (u)nsure / (f)inished / (p)revious\n"
     ]
    },
    {
     "name": "stdin",
     "output_type": "stream",
     "text": [
      " y\n"
     ]
    },
    {
     "name": "stderr",
     "output_type": "stream",
     "text": [
      "INFO:dedupe.training:Final predicate set:\n",
      "INFO:dedupe.training:SimplePredicate: (wholeFieldPredicate, Site name)\n",
      "INFO:dedupe.training:SimplePredicate: (alphaNumericPredicate, Site name)\n",
      "Site name : home of life community dev. corp. home of life just for you (773)-626-8655\n",
      "Address : 4647 w. washington\n",
      "Zip : 60644\n",
      "Phone : None\n",
      "\n",
      "Site name : home of life\n",
      "Address : 4647 w washington boulevard\n",
      "Zip : 60644\n",
      "Phone : 6268655\n",
      "\n",
      "2/10 positive, 0/10 negative\n",
      "Do these records refer to the same thing?\n",
      "(y)es / (n)o / (u)nsure / (f)inished / (p)revious\n"
     ]
    },
    {
     "name": "stdin",
     "output_type": "stream",
     "text": [
      " y\n"
     ]
    },
    {
     "name": "stderr",
     "output_type": "stream",
     "text": [
      "INFO:dedupe.training:Final predicate set:\n",
      "INFO:dedupe.training:SimplePredicate: (wholeFieldPredicate, Address)\n",
      "Site name : henry booth house young achievers academy\n",
      "Address : 520 e 79th street\n",
      "Zip : 60619\n",
      "Phone : None\n",
      "\n",
      "Site name : henry booth house young achievers academy\n",
      "Address : 520 e 79th st.\n",
      "Zip : 60619\n",
      "Phone : None\n",
      "\n",
      "3/10 positive, 0/10 negative\n",
      "Do these records refer to the same thing?\n",
      "(y)es / (n)o / (u)nsure / (f)inished / (p)revious\n"
     ]
    },
    {
     "name": "stdin",
     "output_type": "stream",
     "text": [
      " y\n"
     ]
    },
    {
     "name": "stderr",
     "output_type": "stream",
     "text": [
      "INFO:dedupe.training:Final predicate set:\n",
      "INFO:dedupe.training:SimplePredicate: (sameSevenCharStartPredicate, Address)\n",
      "Site name : hearst\n",
      "Address : 4340 s. lamon\n",
      "Zip : None\n",
      "Phone : 5352376\n",
      "\n",
      "Site name : hearst\n",
      "Address : 4640 s. lamon\n",
      "Zip : 60638\n",
      "Phone : 5352376\n",
      "\n",
      "4/10 positive, 0/10 negative\n",
      "Do these records refer to the same thing?\n",
      "(y)es / (n)o / (u)nsure / (f)inished / (p)revious\n"
     ]
    },
    {
     "name": "stdin",
     "output_type": "stream",
     "text": [
      " y\n"
     ]
    },
    {
     "name": "stderr",
     "output_type": "stream",
     "text": [
      "Site name : our lady of tepeyac\n",
      "Address : 2414 south albany avenue\n",
      "Zip : 60623\n",
      "Phone : 2775888\n",
      "\n",
      "Site name : our lady of tepeyac early childhood center\n",
      "Address : 2414 s albany avenue\n",
      "Zip : 60623\n",
      "Phone : 2775888\n",
      "\n",
      "5/10 positive, 0/10 negative\n",
      "Do these records refer to the same thing?\n",
      "(y)es / (n)o / (u)nsure / (f)inished / (p)revious\n"
     ]
    },
    {
     "name": "stdin",
     "output_type": "stream",
     "text": [
      " y\n"
     ]
    },
    {
     "name": "stderr",
     "output_type": "stream",
     "text": [
      "INFO:dedupe.training:Final predicate set:\n",
      "INFO:dedupe.training:SimplePredicate: (sameSevenCharStartPredicate, Address)\n",
      "INFO:dedupe.training:SimplePredicate: (wholeFieldPredicate, Site name)\n",
      "Site name : chinese american service league chinese american service league child dev ctr\n",
      "Address : 2141 s tan court\n",
      "Zip : 60616\n",
      "Phone : 7910454\n",
      "\n",
      "Site name : chinese american service league\n",
      "Address : 2141 south tan court 1st floor\n",
      "Zip : 60616\n",
      "Phone : 7910454\n",
      "\n",
      "6/10 positive, 0/10 negative\n",
      "Do these records refer to the same thing?\n",
      "(y)es / (n)o / (u)nsure / (f)inished / (p)revious\n"
     ]
    },
    {
     "name": "stdin",
     "output_type": "stream",
     "text": [
      " y\n"
     ]
    },
    {
     "name": "stderr",
     "output_type": "stream",
     "text": [
      "INFO:dedupe.training:Final predicate set:\n",
      "INFO:dedupe.training:TfidfTextCanopyPredicate: (0.6, Address)\n",
      "INFO:dedupe.training:SimplePredicate: (wholeFieldPredicate, Site name)\n",
      "Site name : christopher house uptown\n",
      "Address : 4701 n winthrop\n",
      "Zip : 60640\n",
      "Phone : 7694540\n",
      "\n",
      "Site name : christopher house uptown i/t\n",
      "Address : 4701 n. winthorp\n",
      "Zip : 60640\n",
      "Phone : 7694540\n",
      "\n",
      "7/10 positive, 0/10 negative\n",
      "Do these records refer to the same thing?\n",
      "(y)es / (n)o / (u)nsure / (f)inished / (p)revious\n"
     ]
    },
    {
     "name": "stdin",
     "output_type": "stream",
     "text": [
      " y\n"
     ]
    },
    {
     "name": "stderr",
     "output_type": "stream",
     "text": [
      "Site name : el hogar del nino/cuidar - maria freeman\n",
      "Address : 4312 s california ave\n",
      "Zip : None\n",
      "Phone : None\n",
      "\n",
      "Site name : el hogar del nino/cuidar - el hogar del nino/cuidar- california\n",
      "Address : 2325 s california ave\n",
      "Zip : None\n",
      "Phone : 5231629\n",
      "\n",
      "8/10 positive, 0/10 negative\n",
      "Do these records refer to the same thing?\n",
      "(y)es / (n)o / (u)nsure / (f)inished / (p)revious\n"
     ]
    },
    {
     "name": "stdin",
     "output_type": "stream",
     "text": [
      " n\n"
     ]
    },
    {
     "name": "stderr",
     "output_type": "stream",
     "text": [
      "INFO:dedupe.training:Final predicate set:\n",
      "INFO:dedupe.training:SimplePredicate: (sameFiveCharStartPredicate, Address)\n",
      "INFO:dedupe.training:SimplePredicate: (wholeFieldPredicate, Site name)\n",
      "Site name : marillac social center\n",
      "Address : 212 south francisco\n",
      "Zip : 60612\n",
      "Phone : 7227440\n",
      "\n",
      "Site name : marillac social center supportive services\n",
      "Address : 212 s francisco avenue\n",
      "Zip : 60612\n",
      "Phone : 7227440\n",
      "\n",
      "8/10 positive, 1/10 negative\n",
      "Do these records refer to the same thing?\n",
      "(y)es / (n)o / (u)nsure / (f)inished / (p)revious\n"
     ]
    },
    {
     "name": "stdin",
     "output_type": "stream",
     "text": [
      " y\n"
     ]
    },
    {
     "name": "stderr",
     "output_type": "stream",
     "text": [
      "Site name : centers for new horizons - altgeld gardens ii early learning center\n",
      "Address : 939 e 132nd street\n",
      "Zip : 60827\n",
      "Phone : 4686033\n",
      "\n",
      "Site name : centers for new horizons - altgeld\n",
      "Address : 941 e 132nd street\n",
      "Zip : 60627\n",
      "Phone : 4683055\n",
      "\n",
      "9/10 positive, 1/10 negative\n",
      "Do these records refer to the same thing?\n",
      "(y)es / (n)o / (u)nsure / (f)inished / (p)revious\n"
     ]
    },
    {
     "name": "stdin",
     "output_type": "stream",
     "text": [
      " y\n"
     ]
    },
    {
     "name": "stderr",
     "output_type": "stream",
     "text": [
      "INFO:dedupe.training:Final predicate set:\n",
      "INFO:dedupe.training:TfidfTextCanopyPredicate: (0.6, Address)\n",
      "INFO:dedupe.training:LevenshteinCanopyPredicate: (2, Address)\n",
      "Site name : uic children's cent ii west\n",
      "Address : 1919 w. taylor\n",
      "Zip : 60612\n",
      "Phone : 4135326\n",
      "\n",
      "Site name : uic children's center\n",
      "Address : 1919 west taylor street (mc 525) room 128\n",
      "Zip : 60612\n",
      "Phone : 4135328\n",
      "\n",
      "10/10 positive, 1/10 negative\n",
      "Do these records refer to the same thing?\n",
      "(y)es / (n)o / (u)nsure / (f)inished / (p)revious\n"
     ]
    },
    {
     "name": "stdin",
     "output_type": "stream",
     "text": [
      " y\n"
     ]
    },
    {
     "name": "stderr",
     "output_type": "stream",
     "text": [
      "Site name : mary crane\n",
      "Address : 2905 n. leavitt\n",
      "Zip : 60618\n",
      "Phone : 3485528\n",
      "\n",
      "Site name : mary crane east 0-3\n",
      "Address : 2974 n. clybourn\n",
      "Zip : 60618\n",
      "Phone : 3485528\n",
      "\n",
      "11/10 positive, 1/10 negative\n",
      "Do these records refer to the same thing?\n",
      "(y)es / (n)o / (u)nsure / (f)inished / (p)revious\n"
     ]
    },
    {
     "name": "stdin",
     "output_type": "stream",
     "text": [
      " n\n"
     ]
    },
    {
     "name": "stderr",
     "output_type": "stream",
     "text": [
      "INFO:dedupe.training:Final predicate set:\n",
      "INFO:dedupe.training:SimplePredicate: (firstTokenPredicate, Address)\n",
      "INFO:dedupe.training:LevenshteinCanopyPredicate: (2, Address)\n",
      "Site name : mary crane league mary crane center (east)\n",
      "Address : 2974 n clybourn ave\n",
      "Zip : 60618\n",
      "Phone : 3485528\n",
      "\n",
      "Site name : mary crane\n",
      "Address : 2905 n. leavitt\n",
      "Zip : 60618\n",
      "Phone : 3485528\n",
      "\n",
      "11/10 positive, 2/10 negative\n",
      "Do these records refer to the same thing?\n",
      "(y)es / (n)o / (u)nsure / (f)inished / (p)revious\n"
     ]
    },
    {
     "name": "stdin",
     "output_type": "stream",
     "text": [
      " n\n"
     ]
    },
    {
     "name": "stderr",
     "output_type": "stream",
     "text": [
      "Site name : henry booth house - love n learn academy\n",
      "Address : 723 e 75th st\n",
      "Zip : None\n",
      "Phone : 7230338\n",
      "\n",
      "Site name : henry booth house love n learn academy\n",
      "Address : 723-725 e 75th st.\n",
      "Zip : 60619\n",
      "Phone : 7230338\n",
      "\n",
      "11/10 positive, 3/10 negative\n",
      "Do these records refer to the same thing?\n",
      "(y)es / (n)o / (u)nsure / (f)inished / (p)revious\n"
     ]
    },
    {
     "name": "stdin",
     "output_type": "stream",
     "text": [
      " y\n"
     ]
    },
    {
     "name": "stderr",
     "output_type": "stream",
     "text": [
      "Site name : easter seals society of metropolitan chicago gilchrist marchman\n",
      "Address : 1001 w roosevelt rd 606\n",
      "Zip : 81559\n",
      "Phone : 4927402\n",
      "\n",
      "Site name : easter seals society of metropolitan chicago rachel's learning center #1\n",
      "Address : 3430 w roosevelt rd\n",
      "Zip : 60624\n",
      "Phone : 5330444\n",
      "\n",
      "12/10 positive, 3/10 negative\n",
      "Do these records refer to the same thing?\n",
      "(y)es / (n)o / (u)nsure / (f)inished / (p)revious\n"
     ]
    },
    {
     "name": "stdin",
     "output_type": "stream",
     "text": [
      " n\n"
     ]
    },
    {
     "name": "stderr",
     "output_type": "stream",
     "text": [
      "INFO:dedupe.training:Final predicate set:\n",
      "INFO:dedupe.training:SimplePredicate: (firstTokenPredicate, Address)\n",
      "INFO:dedupe.training:SimplePredicate: (wholeFieldPredicate, Site name)\n",
      "INFO:dedupe.training:LevenshteinCanopyPredicate: (2, Address)\n",
      "Site name : abraham lincoln center - king\n",
      "Address : 4314 s. cottage grove\n",
      "Zip : None\n",
      "Phone : 7472310\n",
      "\n",
      "Site name : abraham lincoln center abraham-lincoln\n",
      "Address : 3858 s. cottage grove\n",
      "Zip : 60654\n",
      "Phone : 2851390\n",
      "\n",
      "12/10 positive, 4/10 negative\n",
      "Do these records refer to the same thing?\n",
      "(y)es / (n)o / (u)nsure / (f)inished / (p)revious\n"
     ]
    },
    {
     "name": "stdin",
     "output_type": "stream",
     "text": [
      " n\n"
     ]
    },
    {
     "name": "stderr",
     "output_type": "stream",
     "text": [
      "Site name : centers for new horizons - ida b. wells learning center\n",
      "Address : 3601 s rhodes st\n",
      "Zip : None\n",
      "Phone : 3733640\n",
      "\n",
      "Site name : centers for new horizons ida b. wells elc\n",
      "Address : 3641 s. rhodes\n",
      "Zip : 60653\n",
      "Phone : 3733640\n",
      "\n",
      "12/10 positive, 5/10 negative\n",
      "Do these records refer to the same thing?\n",
      "(y)es / (n)o / (u)nsure / (f)inished / (p)revious\n"
     ]
    },
    {
     "name": "stdin",
     "output_type": "stream",
     "text": [
      " y\n"
     ]
    },
    {
     "name": "stderr",
     "output_type": "stream",
     "text": [
      "Site name : st. paul church of god - chaney ford child care center\n",
      "Address : 4526 s wabash ave\n",
      "Zip : None\n",
      "Phone : 2858721\n",
      "\n",
      "Site name : st. paul-chaney ford child care\n",
      "Address : 4526 s. wabash\n",
      "Zip : 60653\n",
      "Phone : 2858721\n",
      "\n",
      "13/10 positive, 5/10 negative\n",
      "Do these records refer to the same thing?\n",
      "(y)es / (n)o / (u)nsure / (f)inished / (p)revious\n"
     ]
    },
    {
     "name": "stdin",
     "output_type": "stream",
     "text": [
      " y\n"
     ]
    },
    {
     "name": "stderr",
     "output_type": "stream",
     "text": [
      "INFO:dedupe.training:Final predicate set:\n",
      "INFO:dedupe.training:SimplePredicate: (nearIntegersPredicate, Phone)\n",
      "INFO:dedupe.training:SimplePredicate: (sameSevenCharStartPredicate, Address)\n",
      "INFO:dedupe.training:LevenshteinCanopyPredicate: (2, Address)\n",
      "Site name : carter\n",
      "Address : 5740 s. michigan ave.\n",
      "Zip : None\n",
      "Phone : 5350860\n",
      "\n",
      "Site name : henry booth house precious little ones\n",
      "Address : 5327 s michigan ave.\n",
      "Zip : 60615\n",
      "Phone : None\n",
      "\n",
      "14/10 positive, 5/10 negative\n",
      "Do these records refer to the same thing?\n",
      "(y)es / (n)o / (u)nsure / (f)inished / (p)revious\n"
     ]
    },
    {
     "name": "stdin",
     "output_type": "stream",
     "text": [
      " f\n"
     ]
    },
    {
     "name": "stderr",
     "output_type": "stream",
     "text": [
      "Finished labeling\n",
      "INFO:rlr.crossvalidation:using cross validation to find optimum alpha...\n",
      "/Applications/anaconda3/lib/python3.6/site-packages/rlr/crossvalidation.py:122: RuntimeWarning: invalid value encountered in double_scalars\n",
      "  * (true_distinct + false_distinct)))\n",
      "INFO:rlr.crossvalidation:optimum alpha: 0.000100, score 0.43389980764142244\n",
      "INFO:dedupe.training:Final predicate set:\n",
      "INFO:dedupe.training:(SimplePredicate: (nearIntegersPredicate, Address), SimplePredicate: (wholeFieldPredicate, Zip), TfidfNGramCanopyPredicate: (0.6, Site name))\n",
      "INFO:dedupe.training:(SimplePredicate: (tokenFieldPredicate, Phone), TfidfNGramCanopyPredicate: (0.2, Site name), TfidfNGramCanopyPredicate: (0.8, Site name))\n",
      "INFO:dedupe.training:(LevenshteinCanopyPredicate: (2, Address), SimplePredicate: (commonThreeTokens, Site name), TfidfTextCanopyPredicate: (0.6, Site name))\n"
     ]
    }
   ],
   "source": [
    "# If a settings file already exists, we'll just load that and skip training\n",
    "if os.path.exists(settings_file):\n",
    "    print('reading from', settings_file)\n",
    "    with open(settings_file, 'rb') as f:\n",
    "        deduper = dedupe.StaticDedupe(f)\n",
    "else:\n",
    "    # ## Training\n",
    "\n",
    "    # Define the fields dedupe will pay attention to\n",
    "    fields = [\n",
    "        {'field': 'Site name', 'type': 'String'},\n",
    "        {'field': 'Address', 'type': 'String'},\n",
    "        {'field': 'Zip', 'type': 'Exact', 'has missing': True},\n",
    "        {'field': 'Phone', 'type': 'String', 'has missing': True},\n",
    "        ]\n",
    "\n",
    "    # Create a new deduper object and pass our data model to it.\n",
    "    deduper = dedupe.Dedupe(fields)\n",
    "\n",
    "    # If we have training data saved from a previous run of dedupe,\n",
    "    # look for it and load it in.\n",
    "    # __Note:__ if you want to train from scratch, delete the training_file\n",
    "    if os.path.exists(training_file):\n",
    "        print('reading labeled examples from ', training_file)\n",
    "        with open(training_file, 'rb') as f:\n",
    "            deduper.prepare_training(data_d, f)\n",
    "    else:\n",
    "        deduper.prepare_training(data_d)\n",
    "\n",
    "    # ## Active learning\n",
    "    # Dedupe will find the next pair of records\n",
    "    # it is least certain about and ask you to label them as duplicates\n",
    "    # or not.\n",
    "    # use 'y', 'n' and 'u' keys to flag duplicates\n",
    "    # press 'f' when you are finished\n",
    "    print('starting active labeling...')\n",
    "\n",
    "    dedupe.console_label(deduper)\n",
    "\n",
    "    # Using the examples we just labeled, train the deduper and learn\n",
    "    # blocking predicates\n",
    "    deduper.train()\n",
    "\n",
    "    # When finished, save our training to disk\n",
    "    with open(training_file, 'w') as tf:\n",
    "        deduper.write_training(tf)\n",
    "\n",
    "    # Save our weights and predicates to disk.  If the settings file\n",
    "    # exists, we will skip all the training and learning next time we run\n",
    "    # this file.\n",
    "    with open(settings_file, 'wb') as sf:\n",
    "        deduper.write_settings(sf)"
   ]
  },
  {
   "cell_type": "code",
   "execution_count": 12,
   "metadata": {},
   "outputs": [
    {
     "name": "stdout",
     "output_type": "stream",
     "text": [
      "clustering...\n",
      "# duplicate sets 1784\n"
     ]
    }
   ],
   "source": [
    "# ## Clustering\n",
    "\n",
    "# `partition` will return sets of records that dedupe\n",
    "# believes are all referring to the same entity.\n",
    "\n",
    "print('clustering...')\n",
    "clustered_dupes = deduper.partition(data_d, 0.5)\n",
    "\n",
    "print('# duplicate sets', len(clustered_dupes))"
   ]
  },
  {
   "cell_type": "code",
   "execution_count": 16,
   "metadata": {},
   "outputs": [],
   "source": [
    "# ## Writing Results\n",
    "\n",
    "# Write our original data back out to a CSV with a new column called\n",
    "# 'Cluster ID' which indicates which records refer to each other.\n",
    "\n",
    "cluster_membership = {}\n",
    "for cluster_id, (records, scores) in enumerate(clustered_dupes):\n",
    "    for record_id, score in zip(records, scores):\n",
    "        cluster_membership[record_id] = {\n",
    "            \"Cluster ID\": cluster_id,\n",
    "            \"confidence_score\": score\n",
    "        }\n",
    "\n",
    "out_f = file_path + output_file\n",
    "in_f = file_path + input_file\n",
    "\n",
    "with open(out_f, 'w') as f_output, open(in_f) as f_input:\n",
    "\n",
    "    reader = csv.DictReader(f_input)\n",
    "    fieldnames = ['Cluster ID', 'confidence_score'] + reader.fieldnames\n",
    "\n",
    "    writer = csv.DictWriter(f_output, fieldnames=fieldnames)\n",
    "    writer.writeheader()\n",
    "\n",
    "    for row in reader:\n",
    "        row_id = int(row['Id'])\n",
    "        row.update(cluster_membership[row_id])\n",
    "        writer.writerow(row)"
   ]
  },
  {
   "cell_type": "markdown",
   "metadata": {},
   "source": [
    "### Evaluation"
   ]
  },
  {
   "cell_type": "code",
   "execution_count": 19,
   "metadata": {},
   "outputs": [],
   "source": [
    "def evaluateDuplicates(found_dupes, true_dupes):\n",
    "    true_positives = found_dupes.intersection(true_dupes)\n",
    "    false_positives = found_dupes.difference(true_dupes)\n",
    "    uncovered_dupes = true_dupes.difference(found_dupes)\n",
    "\n",
    "    print('found duplicate')\n",
    "    print(len(found_dupes))\n",
    "\n",
    "    print('precision')\n",
    "    print(1 - len(false_positives) / float(len(found_dupes)))\n",
    "\n",
    "    print('recall')\n",
    "    print(len(true_positives) / float(len(true_dupes)))"
   ]
  },
  {
   "cell_type": "code",
   "execution_count": 20,
   "metadata": {},
   "outputs": [],
   "source": [
    "def dupePairs(filename, rowname) :\n",
    "    dupe_d = collections.defaultdict(list)\n",
    "\n",
    "    with open(filename) as f:\n",
    "        reader = csv.DictReader(f, delimiter=',', quotechar='\"')\n",
    "        for row in reader:\n",
    "            dupe_d[row[rowname]].append(row['Id'])\n",
    "\n",
    "    if 'x' in dupe_d :\n",
    "        del dupe_d['x']\n",
    "\n",
    "    dupe_s = set([])\n",
    "    for (unique_id, cluster) in viewitems(dupe_d) :\n",
    "        if len(cluster) > 1:\n",
    "            for pair in itertools.combinations(cluster, 2):\n",
    "                dupe_s.add(frozenset(pair))\n",
    "\n",
    "    return dupe_s"
   ]
  },
  {
   "cell_type": "code",
   "execution_count": 21,
   "metadata": {},
   "outputs": [],
   "source": [
    "manual_clusters = 'csv_example_input_with_true_ids.csv'\n",
    "dedupe_clusters = 'csv_example_output.csv'\n",
    "\n",
    "manual_clusters_fp = file_path + manual_clusters\n",
    "dedupe_clusters_fp = file_path + dedupe_clusters"
   ]
  },
  {
   "cell_type": "code",
   "execution_count": 22,
   "metadata": {},
   "outputs": [],
   "source": [
    "true_dupes = dupePairs(manual_clusters_fp, 'True Id')\n",
    "test_dupes = dupePairs(dedupe_clusters_fp, 'Cluster ID')"
   ]
  },
  {
   "cell_type": "code",
   "execution_count": 23,
   "metadata": {},
   "outputs": [
    {
     "name": "stdout",
     "output_type": "stream",
     "text": [
      "found duplicate\n",
      "3087\n",
      "precision\n",
      "0.98607061872368\n",
      "recall\n",
      "0.46065375302663436\n"
     ]
    }
   ],
   "source": [
    "evaluateDuplicates(test_dupes, true_dupes)"
   ]
  },
  {
   "cell_type": "code",
   "execution_count": null,
   "metadata": {},
   "outputs": [],
   "source": []
  }
 ],
 "metadata": {
  "kernelspec": {
   "display_name": "Python 3",
   "language": "python",
   "name": "python3"
  },
  "language_info": {
   "codemirror_mode": {
    "name": "ipython",
    "version": 3
   },
   "file_extension": ".py",
   "mimetype": "text/x-python",
   "name": "python",
   "nbconvert_exporter": "python",
   "pygments_lexer": "ipython3",
   "version": "3.6.8"
  }
 },
 "nbformat": 4,
 "nbformat_minor": 2
}
