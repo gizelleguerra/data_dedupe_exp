{
 "cells": [
  {
   "cell_type": "markdown",
   "metadata": {},
   "source": [
    "### Dedupe Example with NC Voter Data"
   ]
  },
  {
   "cell_type": "markdown",
   "metadata": {},
   "source": [
    "Test using 1M rows (NC voter data file #1). \n",
    "Iteration 0: standard config for fields:\n",
    "    fields = [\n",
    "        {'field': 'givenname', 'type': 'String'},\n",
    "        {'field': 'surname', 'type': 'String'},\n",
    "        {'field': 'suburb', 'type': 'String'},\n",
    "        {'field': 'postcode', 'type': 'String', 'has missing': True},\n",
    "        ]\n",
    "    results - no duplicates?\n",
    "    \n",
    "Iteration 1: use name type for given/surname fields fields:\n",
    "    fields = [\n",
    "        {'field': 'givenname', 'type': 'Name'},\n",
    "        {'field': 'surname', 'type': 'Name'},\n",
    "        {'field': 'suburb', 'type': 'String'},\n",
    "        {'field': 'postcode', 'type': 'String', 'has missing': True},\n",
    "        ]     "
   ]
  },
  {
   "cell_type": "code",
   "execution_count": 1,
   "metadata": {},
   "outputs": [],
   "source": [
    "import os\n",
    "import csv\n",
    "import re\n",
    "import logging\n",
    "import optparse\n",
    "\n",
    "import dedupe\n",
    "from unidecode import unidecode"
   ]
  },
  {
   "cell_type": "code",
   "execution_count": 2,
   "metadata": {},
   "outputs": [],
   "source": [
    "from future.utils import viewitems\n",
    "\n",
    "import csv\n",
    "import collections\n",
    "import itertools"
   ]
  },
  {
   "cell_type": "code",
   "execution_count": 3,
   "metadata": {},
   "outputs": [],
   "source": [
    "def preProcess(column):\n",
    "    \"\"\"\n",
    "    Do a little bit of data cleaning with the help of Unidecode and Regex.\n",
    "    Things like casing, extra spaces, quotes and new lines can be ignored.\n",
    "    \"\"\"\n",
    "    column = unidecode(column)\n",
    "    column = re.sub('  +', ' ', column)\n",
    "    column = re.sub('\\n', ' ', column)\n",
    "    column = column.strip().strip('\"').strip(\"'\").lower().strip()\n",
    "    # If data is missing, indicate that by setting the value to `None`\n",
    "    if not column:\n",
    "        column = None\n",
    "    return column"
   ]
  },
  {
   "cell_type": "code",
   "execution_count": 4,
   "metadata": {},
   "outputs": [],
   "source": [
    "def readData(filename):\n",
    "    \"\"\"\n",
    "    Read in our data from a CSV file and create a dictionary of records,\n",
    "    where the key is a unique record ID and each value is dict\n",
    "    \"\"\"\n",
    "\n",
    "    data_d = {}\n",
    "    with open(filename) as f:\n",
    "        reader = csv.DictReader(f)\n",
    "        for row in reader:\n",
    "            clean_row = [(k, preProcess(v)) for (k, v) in row.items()]\n",
    "            row_id = int(row['Id'])\n",
    "            data_d[row_id] = dict(clean_row)\n",
    "\n",
    "    return data_d"
   ]
  },
  {
   "cell_type": "code",
   "execution_count": 6,
   "metadata": {},
   "outputs": [
    {
     "name": "stdout",
     "output_type": "stream",
     "text": [
      "importing data ...\n"
     ]
    }
   ],
   "source": [
    "# ## Setup\n",
    "file_path = '/Users/gizelleguerra/Documents/fedex_cip/dedupe_NC_exp0/'\n",
    "input_file = 'NC1_clean.csv'\n",
    "output_file = 'NCdd1_output_it1.csv'\n",
    "settings_file = 'NCdd1_learned_settings'\n",
    "training_file = 'NCdd1_training.json'\n",
    "\n",
    "print('importing data ...')\n",
    "data_d = readData(file_path + input_file)"
   ]
  },
  {
   "cell_type": "code",
   "execution_count": 10,
   "metadata": {},
   "outputs": [
    {
     "name": "stderr",
     "output_type": "stream",
     "text": [
      "INFO:dedupe.canopy_index:Removing stop word le\n",
      "INFO:dedupe.canopy_index:Removing stop word an\n",
      "INFO:dedupe.canopy_index:Removing stop word ar\n",
      "INFO:dedupe.canopy_index:Removing stop word er\n",
      "INFO:dedupe.canopy_index:Removing stop word ll\n",
      "INFO:dedupe.canopy_index:Removing stop word en\n",
      "INFO:dedupe.canopy_index:Removing stop word on\n",
      "INFO:dedupe.canopy_index:Removing stop word in\n",
      "INFO:dedupe.canopy_index:Removing stop word ma\n",
      "INFO:dedupe.canopy_index:Removing stop word ri\n",
      "INFO:dedupe.canopy_index:Removing stop word el\n",
      "INFO:dedupe.canopy_index:Removing stop word le\n",
      "INFO:dedupe.canopy_index:Removing stop word an\n",
      "INFO:dedupe.canopy_index:Removing stop word ar\n",
      "INFO:dedupe.canopy_index:Removing stop word er\n",
      "INFO:dedupe.canopy_index:Removing stop word ll\n",
      "INFO:dedupe.canopy_index:Removing stop word in\n",
      "INFO:dedupe.canopy_index:Removing stop word on\n",
      "INFO:dedupe.canopy_index:Removing stop word an\n",
      "INFO:dedupe.canopy_index:Removing stop word ar\n",
      "INFO:dedupe.canopy_index:Removing stop word ne\n",
      "INFO:dedupe.canopy_index:Removing stop word re\n",
      "INFO:dedupe.canopy_index:Removing stop word en\n",
      "INFO:dedupe.canopy_index:Removing stop word el\n",
      "INFO:dedupe.training:Final predicate set:\n",
      "INFO:dedupe.training:PartialIndexTfidfNGramCanopyPredicate: (0.8, surname, Surname)\n",
      "givenname : lawrence\n",
      "surname : mooar\n",
      "suburb : raleigh\n",
      "postcode : 27606\n",
      "\n",
      "givenname : nichole\n",
      "surname : schlund\n",
      "suburb : raleigh\n",
      "postcode : 27606\n",
      "\n",
      "0/10 positive, 0/10 negative\n",
      "Do these records refer to the same thing?\n",
      "(y)es / (n)o / (u)nsure / (f)inished\n"
     ]
    },
    {
     "name": "stdout",
     "output_type": "stream",
     "text": [
      "starting active labeling...\n"
     ]
    },
    {
     "name": "stdin",
     "output_type": "stream",
     "text": [
      " n\n"
     ]
    },
    {
     "name": "stderr",
     "output_type": "stream",
     "text": [
      "givenname : bonnie\n",
      "surname : clay\n",
      "suburb : raleigh\n",
      "postcode : 27603\n",
      "\n",
      "givenname : terry\n",
      "surname : shinholser\n",
      "suburb : raleigh\n",
      "postcode : 27603\n",
      "\n",
      "0/10 positive, 1/10 negative\n",
      "Do these records refer to the same thing?\n",
      "(y)es / (n)o / (u)nsure / (f)inished / (p)revious\n"
     ]
    },
    {
     "name": "stdin",
     "output_type": "stream",
     "text": [
      " n\n"
     ]
    },
    {
     "name": "stderr",
     "output_type": "stream",
     "text": [
      "givenname : sally\n",
      "surname : rech\n",
      "suburb : rutherfordton\n",
      "postcode : 28139\n",
      "\n",
      "givenname : sally\n",
      "surname : tutt\n",
      "suburb : rutherfordton\n",
      "postcode : 28139\n",
      "\n",
      "0/10 positive, 2/10 negative\n",
      "Do these records refer to the same thing?\n",
      "(y)es / (n)o / (u)nsure / (f)inished / (p)revious\n"
     ]
    },
    {
     "name": "stdin",
     "output_type": "stream",
     "text": [
      " y\n"
     ]
    },
    {
     "name": "stderr",
     "output_type": "stream",
     "text": [
      "givenname : thomas\n",
      "surname : bullard\n",
      "suburb : raleigh\n",
      "postcode : 27616\n",
      "\n",
      "givenname : thomas\n",
      "surname : bakane\n",
      "suburb : raleigh\n",
      "postcode : 27606\n",
      "\n",
      "1/10 positive, 2/10 negative\n",
      "Do these records refer to the same thing?\n",
      "(y)es / (n)o / (u)nsure / (f)inished / (p)revious\n"
     ]
    },
    {
     "name": "stdin",
     "output_type": "stream",
     "text": [
      " n\n"
     ]
    },
    {
     "name": "stderr",
     "output_type": "stream",
     "text": [
      "INFO:dedupe.training:Final predicate set:\n",
      "INFO:dedupe.training:SimplePredicate: (suffixArray, givenname)\n",
      "givenname : lola\n",
      "surname : maness\n",
      "suburb : asheboro\n",
      "postcode : 27205\n",
      "\n",
      "givenname : robert\n",
      "surname : dozier\n",
      "suburb : asheboro\n",
      "postcode : 27205\n",
      "\n",
      "1/10 positive, 3/10 negative\n",
      "Do these records refer to the same thing?\n",
      "(y)es / (n)o / (u)nsure / (f)inished / (p)revious\n"
     ]
    },
    {
     "name": "stdin",
     "output_type": "stream",
     "text": [
      " n\n"
     ]
    },
    {
     "name": "stderr",
     "output_type": "stream",
     "text": [
      "givenname : phillip\n",
      "surname : ricks\n",
      "suburb : rockymount\n",
      "postcode : 27804\n",
      "\n",
      "givenname : tonya\n",
      "surname : ricks\n",
      "suburb : rockymount\n",
      "postcode : 27804\n",
      "\n",
      "1/10 positive, 4/10 negative\n",
      "Do these records refer to the same thing?\n",
      "(y)es / (n)o / (u)nsure / (f)inished / (p)revious\n"
     ]
    },
    {
     "name": "stdin",
     "output_type": "stream",
     "text": [
      " y\n"
     ]
    },
    {
     "name": "stderr",
     "output_type": "stream",
     "text": [
      "givenname : carolyn\n",
      "surname : mceachern\n",
      "suburb : fayetteville\n",
      "postcode : 28314\n",
      "\n",
      "givenname : carolyn\n",
      "surname : kitchens\n",
      "suburb : fayetteville\n",
      "postcode : 28304\n",
      "\n",
      "2/10 positive, 4/10 negative\n",
      "Do these records refer to the same thing?\n",
      "(y)es / (n)o / (u)nsure / (f)inished / (p)revious\n"
     ]
    },
    {
     "name": "stdin",
     "output_type": "stream",
     "text": [
      " n\n"
     ]
    },
    {
     "name": "stderr",
     "output_type": "stream",
     "text": [
      "INFO:dedupe.training:Final predicate set:\n",
      "INFO:dedupe.training:SimplePredicate: (suffixArray, postcode)\n",
      "givenname : debra\n",
      "surname : allen\n",
      "suburb : burlington\n",
      "postcode : 27217\n",
      "\n",
      "givenname : larry\n",
      "surname : allen\n",
      "suburb : burlington\n",
      "postcode : 27215\n",
      "\n",
      "2/10 positive, 5/10 negative\n",
      "Do these records refer to the same thing?\n",
      "(y)es / (n)o / (u)nsure / (f)inished / (p)revious\n"
     ]
    },
    {
     "name": "stdin",
     "output_type": "stream",
     "text": [
      " y\n"
     ]
    },
    {
     "name": "stderr",
     "output_type": "stream",
     "text": [
      "givenname : kristopher\n",
      "surname : johnson\n",
      "suburb : charlotte\n",
      "postcode : 28203\n",
      "\n",
      "givenname : jasmine\n",
      "surname : johnson\n",
      "suburb : charlotte\n",
      "postcode : 28205\n",
      "\n",
      "3/10 positive, 5/10 negative\n",
      "Do these records refer to the same thing?\n",
      "(y)es / (n)o / (u)nsure / (f)inished / (p)revious\n"
     ]
    },
    {
     "name": "stdin",
     "output_type": "stream",
     "text": [
      " n\n"
     ]
    },
    {
     "name": "stderr",
     "output_type": "stream",
     "text": [
      "INFO:dedupe.training:Final predicate set:\n",
      "INFO:dedupe.training:PartialIndexTfidfNGramCanopyPredicate: (0.8, surname, Surname)\n",
      "INFO:dedupe.training:SimplePredicate: (suffixArray, givenname)\n",
      "givenname : james\n",
      "surname : kerley\n",
      "suburb : hickory\n",
      "postcode : 28601\n",
      "\n",
      "givenname : kellie\n",
      "surname : kerley\n",
      "suburb : hickory\n",
      "postcode : 28601\n",
      "\n",
      "3/10 positive, 6/10 negative\n",
      "Do these records refer to the same thing?\n",
      "(y)es / (n)o / (u)nsure / (f)inished / (p)revious\n"
     ]
    },
    {
     "name": "stdin",
     "output_type": "stream",
     "text": [
      " y\n"
     ]
    },
    {
     "name": "stderr",
     "output_type": "stream",
     "text": [
      "givenname : shaneka\n",
      "surname : hyman\n",
      "suburb : williamston\n",
      "postcode : 27892\n",
      "\n",
      "givenname : sue\n",
      "surname : hardison\n",
      "suburb : williamston\n",
      "postcode : 27892\n",
      "\n",
      "4/10 positive, 6/10 negative\n",
      "Do these records refer to the same thing?\n",
      "(y)es / (n)o / (u)nsure / (f)inished / (p)revious\n"
     ]
    },
    {
     "name": "stdin",
     "output_type": "stream",
     "text": [
      " n\n"
     ]
    },
    {
     "name": "stderr",
     "output_type": "stream",
     "text": [
      "INFO:dedupe.training:Final predicate set:\n",
      "INFO:dedupe.training:PartialPredicate: (twoGramFingerprint, surname, Surname)\n",
      "INFO:dedupe.training:SimplePredicate: (suffixArray, givenname)\n",
      "givenname : brian\n",
      "surname : arthur\n",
      "suburb : raleigh\n",
      "postcode : 27607\n",
      "\n",
      "givenname : brett\n",
      "surname : jones\n",
      "suburb : raleigh\n",
      "postcode : 27607\n",
      "\n",
      "4/10 positive, 7/10 negative\n",
      "Do these records refer to the same thing?\n",
      "(y)es / (n)o / (u)nsure / (f)inished / (p)revious\n"
     ]
    },
    {
     "name": "stdin",
     "output_type": "stream",
     "text": [
      " n\n"
     ]
    },
    {
     "name": "stderr",
     "output_type": "stream",
     "text": [
      "givenname : amy\n",
      "surname : gerney\n",
      "suburb : wilmington\n",
      "postcode : 28409\n",
      "\n",
      "givenname : christi\n",
      "surname : austin\n",
      "suburb : wilmington\n",
      "postcode : 28409\n",
      "\n",
      "4/10 positive, 8/10 negative\n",
      "Do these records refer to the same thing?\n",
      "(y)es / (n)o / (u)nsure / (f)inished / (p)revious\n"
     ]
    },
    {
     "name": "stdin",
     "output_type": "stream",
     "text": [
      " n\n"
     ]
    },
    {
     "name": "stderr",
     "output_type": "stream",
     "text": [
      "givenname : thomas\n",
      "surname : turner\n",
      "suburb : chapelhill\n",
      "postcode : 27516\n",
      "\n",
      "givenname : ronnie\n",
      "surname : turner\n",
      "suburb : cary\n",
      "postcode : 27513\n",
      "\n",
      "4/10 positive, 9/10 negative\n",
      "Do these records refer to the same thing?\n",
      "(y)es / (n)o / (u)nsure / (f)inished / (p)revious\n"
     ]
    },
    {
     "name": "stdin",
     "output_type": "stream",
     "text": [
      " n\n"
     ]
    },
    {
     "name": "stderr",
     "output_type": "stream",
     "text": [
      "givenname : william\n",
      "surname : jordan\n",
      "suburb : mocksville\n",
      "postcode : 27028\n",
      "\n",
      "givenname : william\n",
      "surname : brock\n",
      "suburb : mocksville\n",
      "postcode : 27028\n",
      "\n",
      "4/10 positive, 10/10 negative\n",
      "Do these records refer to the same thing?\n",
      "(y)es / (n)o / (u)nsure / (f)inished / (p)revious\n"
     ]
    },
    {
     "name": "stdin",
     "output_type": "stream",
     "text": [
      " n\n"
     ]
    },
    {
     "name": "stderr",
     "output_type": "stream",
     "text": [
      "givenname : tylisa\n",
      "surname : williams\n",
      "suburb : durham\n",
      "postcode : 27703\n",
      "\n",
      "givenname : peggy\n",
      "surname : williams\n",
      "suburb : durham\n",
      "postcode : 27707\n",
      "\n",
      "4/10 positive, 11/10 negative\n",
      "Do these records refer to the same thing?\n",
      "(y)es / (n)o / (u)nsure / (f)inished / (p)revious\n"
     ]
    },
    {
     "name": "stdin",
     "output_type": "stream",
     "text": [
      " n\n"
     ]
    },
    {
     "name": "stderr",
     "output_type": "stream",
     "text": [
      "givenname : christopher\n",
      "surname : demmer\n",
      "suburb : asheville\n",
      "postcode : 28803\n",
      "\n",
      "givenname : kristopher\n",
      "surname : mcfee\n",
      "suburb : asheville\n",
      "postcode : 28806\n",
      "\n",
      "4/10 positive, 12/10 negative\n",
      "Do these records refer to the same thing?\n",
      "(y)es / (n)o / (u)nsure / (f)inished / (p)revious\n"
     ]
    },
    {
     "name": "stdin",
     "output_type": "stream",
     "text": [
      " n\n"
     ]
    },
    {
     "name": "stderr",
     "output_type": "stream",
     "text": [
      "givenname : donald\n",
      "surname : williams\n",
      "suburb : charlotte\n",
      "postcode : 28215\n",
      "\n",
      "givenname : curtis\n",
      "surname : williams\n",
      "suburb : charlotte\n",
      "postcode : 28208\n",
      "\n",
      "4/10 positive, 13/10 negative\n",
      "Do these records refer to the same thing?\n",
      "(y)es / (n)o / (u)nsure / (f)inished / (p)revious\n"
     ]
    },
    {
     "name": "stdin",
     "output_type": "stream",
     "text": [
      " n\n"
     ]
    },
    {
     "name": "stderr",
     "output_type": "stream",
     "text": [
      "givenname : rodney\n",
      "surname : rorie\n",
      "suburb : charlotte\n",
      "postcode : 28213\n",
      "\n",
      "givenname : rodney\n",
      "surname : uhlenhake\n",
      "suburb : charlotte\n",
      "postcode : 28269\n",
      "\n",
      "4/10 positive, 14/10 negative\n",
      "Do these records refer to the same thing?\n",
      "(y)es / (n)o / (u)nsure / (f)inished / (p)revious\n"
     ]
    },
    {
     "name": "stdin",
     "output_type": "stream",
     "text": [
      " f\n"
     ]
    },
    {
     "name": "stderr",
     "output_type": "stream",
     "text": [
      "Finished labeling\n",
      "INFO:rlr.crossvalidation:using cross validation to find optimum alpha...\n",
      "/Applications/anaconda3/lib/python3.6/site-packages/rlr/crossvalidation.py:122: RuntimeWarning: invalid value encountered in double_scalars\n",
      "  * (true_distinct + false_distinct)))\n",
      "INFO:rlr.crossvalidation:optimum alpha: 0.000010, score 0.15187688400251725\n",
      "INFO:dedupe.training:Final predicate set:\n",
      "INFO:dedupe.training:(PartialPredicate: (wholeFieldPredicate, surname, Surname), SimplePredicate: (nearIntegersPredicate, postcode), SimplePredicate: (hundredIntegersOddPredicate, postcode))\n",
      "INFO:dedupe.training:(SimplePredicate: (commonIntegerPredicate, postcode), TfidfNGramCanopyPredicate: (0.8, givenname), LevenshteinCanopyPredicate: (4, surname))\n"
     ]
    }
   ],
   "source": [
    "# If a settings file already exists, we'll just load that and skip training\n",
    "if os.path.exists(settings_file):\n",
    "    print('reading from', settings_file)\n",
    "    with open(settings_file, 'rb') as f:\n",
    "        deduper = dedupe.StaticDedupe(f)\n",
    "else:\n",
    "    # ## Training\n",
    "\n",
    "    # Define the fields dedupe will pay attention to\n",
    "    fields = [\n",
    "        {'field': 'givenname', 'type': 'Name'},\n",
    "        {'field': 'surname', 'type': 'Name'},\n",
    "        {'field': 'suburb', 'type': 'String'},\n",
    "        {'field': 'postcode', 'type': 'String', 'has missing': True},\n",
    "        ]\n",
    "\n",
    "    # Create a new deduper object and pass our data model to it.\n",
    "    deduper = dedupe.Dedupe(fields)\n",
    "\n",
    "    # If we have training data saved from a previous run of dedupe,\n",
    "    # look for it and load it in.\n",
    "    # __Note:__ if you want to train from scratch, delete the training_file\n",
    "    if os.path.exists(training_file):\n",
    "        print('reading labeled examples from ', training_file)\n",
    "        with open(training_file, 'rb') as f:\n",
    "            deduper.prepare_training(data_d, f)\n",
    "    else:\n",
    "        deduper.prepare_training(data_d)\n",
    "\n",
    "    # ## Active learning\n",
    "    # Dedupe will find the next pair of records\n",
    "    # it is least certain about and ask you to label them as duplicates\n",
    "    # or not.\n",
    "    # use 'y', 'n' and 'u' keys to flag duplicates\n",
    "    # press 'f' when you are finished\n",
    "    print('starting active labeling...')\n",
    "\n",
    "    dedupe.console_label(deduper)\n",
    "\n",
    "    # Using the examples we just labeled, train the deduper and learn\n",
    "    # blocking predicates\n",
    "    deduper.train()\n",
    "\n",
    "    # When finished, save our training to disk\n",
    "    with open(training_file, 'w') as tf:\n",
    "        deduper.write_training(tf)\n",
    "\n",
    "    # Save our weights and predicates to disk.  If the settings file\n",
    "    # exists, we will skip all the training and learning next time we run\n",
    "    # this file.\n",
    "    with open(settings_file, 'wb') as sf:\n",
    "        deduper.write_settings(sf)"
   ]
  },
  {
   "cell_type": "code",
   "execution_count": 11,
   "metadata": {},
   "outputs": [
    {
     "name": "stdout",
     "output_type": "stream",
     "text": [
      "clustering...\n"
     ]
    },
    {
     "name": "stderr",
     "output_type": "stream",
     "text": [
      "INFO:dedupe.canopy_index:Removing stop word in\n",
      "INFO:dedupe.canopy_index:Removing stop word re\n",
      "INFO:dedupe.canopy_index:Removing stop word ie\n",
      "INFO:dedupe.canopy_index:Removing stop word on\n",
      "INFO:dedupe.canopy_index:Removing stop word sh\n",
      "INFO:dedupe.canopy_index:Removing stop word an\n",
      "INFO:dedupe.canopy_index:Removing stop word ha\n",
      "INFO:dedupe.canopy_index:Removing stop word na\n",
      "INFO:dedupe.canopy_index:Removing stop word ra\n",
      "INFO:dedupe.canopy_index:Removing stop word da\n",
      "INFO:dedupe.canopy_index:Removing stop word el\n",
      "INFO:dedupe.canopy_index:Removing stop word la\n",
      "INFO:dedupe.canopy_index:Removing stop word er\n",
      "INFO:dedupe.canopy_index:Removing stop word ri\n",
      "INFO:dedupe.canopy_index:Removing stop word ne\n",
      "INFO:dedupe.canopy_index:Removing stop word al\n",
      "INFO:dedupe.canopy_index:Removing stop word en\n",
      "INFO:dedupe.canopy_index:Removing stop word le\n",
      "INFO:dedupe.canopy_index:Removing stop word ia\n",
      "INFO:dedupe.canopy_index:Removing stop word is\n",
      "INFO:dedupe.canopy_index:Removing stop word li\n",
      "INFO:dedupe.blocking:10000, 216.5778122 seconds\n",
      "INFO:dedupe.blocking:20000, 340.0734712 seconds\n",
      "INFO:dedupe.blocking:30000, 404.7157962 seconds\n",
      "INFO:dedupe.blocking:40000, 461.0485362 seconds\n",
      "INFO:dedupe.blocking:50000, 550.6371382 seconds\n",
      "INFO:dedupe.blocking:60000, 597.8752802 seconds\n",
      "INFO:dedupe.blocking:70000, 646.1935692 seconds\n",
      "INFO:dedupe.blocking:80000, 693.0927862 seconds\n",
      "INFO:dedupe.blocking:90000, 721.4222052 seconds\n",
      "INFO:dedupe.blocking:100000, 748.5048432 seconds\n",
      "INFO:dedupe.blocking:110000, 771.0245202 seconds\n",
      "INFO:dedupe.blocking:120000, 800.6308692 seconds\n",
      "INFO:dedupe.blocking:130000, 832.1183242 seconds\n",
      "INFO:dedupe.blocking:140000, 866.3265432 seconds\n",
      "INFO:dedupe.blocking:150000, 886.2941382 seconds\n",
      "INFO:dedupe.blocking:160000, 912.8732122 seconds\n",
      "INFO:dedupe.blocking:170000, 933.9409562 seconds\n",
      "INFO:dedupe.blocking:180000, 958.1966432 seconds\n",
      "INFO:dedupe.blocking:190000, 978.9131632 seconds\n",
      "INFO:dedupe.blocking:200000, 999.8270092 seconds\n",
      "INFO:dedupe.blocking:210000, 1025.9896592 seconds\n",
      "INFO:dedupe.blocking:220000, 1048.3363022 seconds\n",
      "INFO:dedupe.blocking:230000, 1070.3271732 seconds\n",
      "INFO:dedupe.blocking:240000, 1091.2194012 seconds\n",
      "INFO:dedupe.blocking:250000, 1107.0426322 seconds\n",
      "INFO:dedupe.blocking:260000, 1123.7561892 seconds\n",
      "INFO:dedupe.blocking:270000, 1142.9050572 seconds\n",
      "INFO:dedupe.blocking:280000, 1162.2215842 seconds\n",
      "INFO:dedupe.blocking:290000, 1177.7975892 seconds\n",
      "INFO:dedupe.blocking:300000, 1196.6583802 seconds\n",
      "INFO:dedupe.blocking:310000, 1216.2479362 seconds\n",
      "INFO:dedupe.blocking:320000, 1235.0305482 seconds\n",
      "INFO:dedupe.blocking:330000, 1250.4055432 seconds\n",
      "INFO:dedupe.blocking:340000, 1264.7923092 seconds\n",
      "INFO:dedupe.blocking:350000, 1279.1225132 seconds\n",
      "INFO:dedupe.blocking:360000, 1292.9567552 seconds\n",
      "INFO:dedupe.blocking:370000, 1308.0673112 seconds\n",
      "INFO:dedupe.blocking:380000, 1322.0152062 seconds\n",
      "INFO:dedupe.blocking:390000, 1341.6476232 seconds\n",
      "INFO:dedupe.blocking:400000, 1357.0561552 seconds\n",
      "INFO:dedupe.blocking:410000, 1372.9313352 seconds\n",
      "INFO:dedupe.blocking:420000, 1387.6212882 seconds\n",
      "INFO:dedupe.blocking:430000, 1451.4751282 seconds\n",
      "INFO:dedupe.blocking:440000, 1468.6081042 seconds\n",
      "INFO:dedupe.blocking:450000, 1484.1079612 seconds\n",
      "INFO:dedupe.blocking:460000, 1500.3675062 seconds\n",
      "INFO:dedupe.blocking:470000, 1515.5274052 seconds\n",
      "INFO:dedupe.blocking:480000, 1530.5575452 seconds\n",
      "INFO:dedupe.blocking:490000, 1546.7565042 seconds\n",
      "INFO:dedupe.blocking:500000, 1561.0315892 seconds\n",
      "INFO:dedupe.blocking:510000, 1576.1846572 seconds\n",
      "INFO:dedupe.blocking:520000, 1588.0606062 seconds\n",
      "INFO:dedupe.blocking:530000, 1600.6884132 seconds\n",
      "INFO:dedupe.blocking:540000, 1616.7189342 seconds\n",
      "INFO:dedupe.blocking:550000, 1631.3352572 seconds\n",
      "INFO:dedupe.blocking:560000, 1647.4123632 seconds\n",
      "INFO:dedupe.blocking:570000, 1663.7170522 seconds\n",
      "INFO:dedupe.blocking:580000, 1676.5231802 seconds\n",
      "INFO:dedupe.blocking:590000, 1688.6038772 seconds\n",
      "INFO:dedupe.blocking:600000, 1706.1594392 seconds\n",
      "INFO:dedupe.blocking:610000, 1719.4661042 seconds\n",
      "INFO:dedupe.blocking:620000, 1729.8911702 seconds\n",
      "INFO:dedupe.blocking:630000, 1744.5501672 seconds\n",
      "INFO:dedupe.blocking:640000, 1758.7069282 seconds\n",
      "INFO:dedupe.blocking:650000, 1771.9070242 seconds\n",
      "INFO:dedupe.blocking:660000, 1787.5652172 seconds\n",
      "INFO:dedupe.blocking:670000, 1801.7301482 seconds\n",
      "INFO:dedupe.blocking:680000, 1815.4152392 seconds\n",
      "INFO:dedupe.blocking:690000, 1829.1515462 seconds\n",
      "INFO:dedupe.blocking:700000, 1840.0053672 seconds\n",
      "INFO:dedupe.blocking:710000, 1851.9293032 seconds\n",
      "INFO:dedupe.blocking:720000, 1868.0617192 seconds\n",
      "INFO:dedupe.blocking:730000, 1881.6218322 seconds\n",
      "INFO:dedupe.blocking:740000, 1895.0503982 seconds\n",
      "INFO:dedupe.blocking:750000, 1906.4709132 seconds\n",
      "INFO:dedupe.blocking:760000, 1921.2400932 seconds\n",
      "INFO:dedupe.blocking:770000, 1932.2480442 seconds\n",
      "INFO:dedupe.blocking:780000, 1945.3647712 seconds\n",
      "INFO:dedupe.blocking:790000, 1959.2284232 seconds\n",
      "INFO:dedupe.blocking:800000, 1973.7161052 seconds\n",
      "INFO:dedupe.blocking:810000, 1986.5154352 seconds\n",
      "INFO:dedupe.blocking:820000, 2001.5335622 seconds\n",
      "INFO:dedupe.blocking:830000, 2014.3300702 seconds\n",
      "INFO:dedupe.blocking:840000, 2028.1170962 seconds\n",
      "INFO:dedupe.blocking:850000, 2041.3891502 seconds\n",
      "INFO:dedupe.blocking:860000, 2054.4142132 seconds\n",
      "INFO:dedupe.blocking:870000, 2067.8706112 seconds\n",
      "INFO:dedupe.blocking:880000, 2079.0486612 seconds\n",
      "INFO:dedupe.blocking:890000, 2092.9362982 seconds\n",
      "INFO:dedupe.blocking:900000, 2104.4031512 seconds\n",
      "INFO:dedupe.blocking:910000, 2116.2898702 seconds\n",
      "INFO:dedupe.blocking:920000, 2126.1284402 seconds\n",
      "INFO:dedupe.blocking:930000, 2137.4609882 seconds\n",
      "INFO:dedupe.blocking:940000, 2149.1565452 seconds\n",
      "INFO:dedupe.blocking:950000, 2165.4394022 seconds\n",
      "INFO:dedupe.blocking:960000, 2177.2105042 seconds\n",
      "INFO:dedupe.blocking:970000, 2191.8721462 seconds\n",
      "INFO:dedupe.blocking:980000, 2205.1218912 seconds\n",
      "INFO:dedupe.blocking:990000, 2227.2996402 seconds\n"
     ]
    },
    {
     "ename": "KeyboardInterrupt",
     "evalue": "",
     "output_type": "error",
     "traceback": [
      "\u001b[0;31m---------------------------------------------------------------------------\u001b[0m",
      "\u001b[0;31mKeyboardInterrupt\u001b[0m                         Traceback (most recent call last)",
      "\u001b[0;32m<ipython-input-11-f9e1d8452375>\u001b[0m in \u001b[0;36m<module>\u001b[0;34m\u001b[0m\n\u001b[1;32m      5\u001b[0m \u001b[0;34m\u001b[0m\u001b[0m\n\u001b[1;32m      6\u001b[0m \u001b[0mprint\u001b[0m\u001b[0;34m(\u001b[0m\u001b[0;34m'clustering...'\u001b[0m\u001b[0;34m)\u001b[0m\u001b[0;34m\u001b[0m\u001b[0;34m\u001b[0m\u001b[0m\n\u001b[0;32m----> 7\u001b[0;31m \u001b[0mclustered_dupes\u001b[0m \u001b[0;34m=\u001b[0m \u001b[0mdeduper\u001b[0m\u001b[0;34m.\u001b[0m\u001b[0mpartition\u001b[0m\u001b[0;34m(\u001b[0m\u001b[0mdata_d\u001b[0m\u001b[0;34m,\u001b[0m \u001b[0;36m0.5\u001b[0m\u001b[0;34m)\u001b[0m\u001b[0;34m\u001b[0m\u001b[0;34m\u001b[0m\u001b[0m\n\u001b[0m\u001b[1;32m      8\u001b[0m \u001b[0;34m\u001b[0m\u001b[0m\n\u001b[1;32m      9\u001b[0m \u001b[0mprint\u001b[0m\u001b[0;34m(\u001b[0m\u001b[0;34m'# duplicate sets'\u001b[0m\u001b[0;34m,\u001b[0m \u001b[0mlen\u001b[0m\u001b[0;34m(\u001b[0m\u001b[0mclustered_dupes\u001b[0m\u001b[0;34m)\u001b[0m\u001b[0;34m)\u001b[0m\u001b[0;34m\u001b[0m\u001b[0;34m\u001b[0m\u001b[0m\n",
      "\u001b[0;32m/Applications/anaconda3/lib/python3.6/site-packages/dedupe/api.py\u001b[0m in \u001b[0;36mpartition\u001b[0;34m(self, data, threshold)\u001b[0m\n\u001b[1;32m    168\u001b[0m         \"\"\"\n\u001b[1;32m    169\u001b[0m         \u001b[0mpairs\u001b[0m \u001b[0;34m=\u001b[0m \u001b[0mself\u001b[0m\u001b[0;34m.\u001b[0m\u001b[0mpairs\u001b[0m\u001b[0;34m(\u001b[0m\u001b[0mdata\u001b[0m\u001b[0;34m)\u001b[0m\u001b[0;34m\u001b[0m\u001b[0;34m\u001b[0m\u001b[0m\n\u001b[0;32m--> 170\u001b[0;31m         \u001b[0mpair_scores\u001b[0m \u001b[0;34m=\u001b[0m \u001b[0mself\u001b[0m\u001b[0;34m.\u001b[0m\u001b[0mscore\u001b[0m\u001b[0;34m(\u001b[0m\u001b[0mpairs\u001b[0m\u001b[0;34m)\u001b[0m\u001b[0;34m\u001b[0m\u001b[0;34m\u001b[0m\u001b[0m\n\u001b[0m\u001b[1;32m    171\u001b[0m         \u001b[0mclusters\u001b[0m \u001b[0;34m=\u001b[0m \u001b[0mself\u001b[0m\u001b[0;34m.\u001b[0m\u001b[0mcluster\u001b[0m\u001b[0;34m(\u001b[0m\u001b[0mpair_scores\u001b[0m\u001b[0;34m,\u001b[0m \u001b[0mthreshold\u001b[0m\u001b[0;34m)\u001b[0m\u001b[0;34m\u001b[0m\u001b[0;34m\u001b[0m\u001b[0m\n\u001b[1;32m    172\u001b[0m \u001b[0;34m\u001b[0m\u001b[0m\n",
      "\u001b[0;32m/Applications/anaconda3/lib/python3.6/site-packages/dedupe/api.py\u001b[0m in \u001b[0;36mscore\u001b[0;34m(self, pairs)\u001b[0m\n\u001b[1;32m    104\u001b[0m                                            \u001b[0mself\u001b[0m\u001b[0;34m.\u001b[0m\u001b[0mdata_model\u001b[0m\u001b[0;34m,\u001b[0m\u001b[0;34m\u001b[0m\u001b[0;34m\u001b[0m\u001b[0m\n\u001b[1;32m    105\u001b[0m                                            \u001b[0mself\u001b[0m\u001b[0;34m.\u001b[0m\u001b[0mclassifier\u001b[0m\u001b[0;34m,\u001b[0m\u001b[0;34m\u001b[0m\u001b[0;34m\u001b[0m\u001b[0m\n\u001b[0;32m--> 106\u001b[0;31m                                            self.num_cores)\n\u001b[0m\u001b[1;32m    107\u001b[0m         \u001b[0;32mexcept\u001b[0m \u001b[0mRuntimeError\u001b[0m\u001b[0;34m:\u001b[0m\u001b[0;34m\u001b[0m\u001b[0;34m\u001b[0m\u001b[0m\n\u001b[1;32m    108\u001b[0m             raise RuntimeError('''\n",
      "\u001b[0;32m/Applications/anaconda3/lib/python3.6/site-packages/dedupe/core.py\u001b[0m in \u001b[0;36mscoreDuplicates\u001b[0;34m(record_pairs, data_model, classifier, num_cores)\u001b[0m\n\u001b[1;32m    250\u001b[0m     \u001b[0mreduce_process\u001b[0m\u001b[0;34m.\u001b[0m\u001b[0mstart\u001b[0m\u001b[0;34m(\u001b[0m\u001b[0;34m)\u001b[0m\u001b[0;34m\u001b[0m\u001b[0;34m\u001b[0m\u001b[0m\n\u001b[1;32m    251\u001b[0m \u001b[0;34m\u001b[0m\u001b[0m\n\u001b[0;32m--> 252\u001b[0;31m     \u001b[0mfillQueue\u001b[0m\u001b[0;34m(\u001b[0m\u001b[0mrecord_pairs_queue\u001b[0m\u001b[0;34m,\u001b[0m \u001b[0mrecord_pairs\u001b[0m\u001b[0;34m,\u001b[0m \u001b[0mn_map_processes\u001b[0m\u001b[0;34m)\u001b[0m\u001b[0;34m\u001b[0m\u001b[0;34m\u001b[0m\u001b[0m\n\u001b[0m\u001b[1;32m    253\u001b[0m \u001b[0;34m\u001b[0m\u001b[0m\n\u001b[1;32m    254\u001b[0m     \u001b[0mresult\u001b[0m \u001b[0;34m=\u001b[0m \u001b[0mresult_queue\u001b[0m\u001b[0;34m.\u001b[0m\u001b[0mget\u001b[0m\u001b[0;34m(\u001b[0m\u001b[0;34m)\u001b[0m\u001b[0;34m\u001b[0m\u001b[0;34m\u001b[0m\u001b[0m\n",
      "\u001b[0;32m/Applications/anaconda3/lib/python3.6/site-packages/dedupe/core.py\u001b[0m in \u001b[0;36mfillQueue\u001b[0;34m(queue, iterable, stop_signals, chunk_size)\u001b[0m\n\u001b[1;32m    281\u001b[0m \u001b[0;34m\u001b[0m\u001b[0m\n\u001b[1;32m    282\u001b[0m     \u001b[0;32mwhile\u001b[0m \u001b[0;32mTrue\u001b[0m\u001b[0;34m:\u001b[0m\u001b[0;34m\u001b[0m\u001b[0;34m\u001b[0m\u001b[0m\n\u001b[0;32m--> 283\u001b[0;31m         \u001b[0mchunk\u001b[0m \u001b[0;34m=\u001b[0m \u001b[0mtuple\u001b[0m\u001b[0;34m(\u001b[0m\u001b[0mitertools\u001b[0m\u001b[0;34m.\u001b[0m\u001b[0mislice\u001b[0m\u001b[0;34m(\u001b[0m\u001b[0miterable\u001b[0m\u001b[0;34m,\u001b[0m \u001b[0mchunk_size\u001b[0m\u001b[0;34m)\u001b[0m\u001b[0;34m)\u001b[0m\u001b[0;34m\u001b[0m\u001b[0;34m\u001b[0m\u001b[0m\n\u001b[0m\u001b[1;32m    284\u001b[0m         \u001b[0;32mif\u001b[0m \u001b[0mchunk\u001b[0m\u001b[0;34m:\u001b[0m\u001b[0;34m\u001b[0m\u001b[0;34m\u001b[0m\u001b[0m\n\u001b[1;32m    285\u001b[0m             \u001b[0mqueue\u001b[0m\u001b[0;34m.\u001b[0m\u001b[0mput\u001b[0m\u001b[0;34m(\u001b[0m\u001b[0mchunk\u001b[0m\u001b[0;34m)\u001b[0m\u001b[0;34m\u001b[0m\u001b[0;34m\u001b[0m\u001b[0m\n",
      "\u001b[0;32m/Applications/anaconda3/lib/python3.6/site-packages/dedupe/api.py\u001b[0m in \u001b[0;36mpairs\u001b[0;34m(self, data)\u001b[0m\n\u001b[1;32m    252\u001b[0m             \u001b[0;32mfor\u001b[0m \u001b[0ma_record_id\u001b[0m\u001b[0;34m,\u001b[0m \u001b[0mb_record_id\u001b[0m \u001b[0;32min\u001b[0m \u001b[0mpairs\u001b[0m\u001b[0;34m:\u001b[0m\u001b[0;34m\u001b[0m\u001b[0;34m\u001b[0m\u001b[0m\n\u001b[1;32m    253\u001b[0m                 yield ((a_record_id, data[a_record_id]),\n\u001b[0;32m--> 254\u001b[0;31m                        (b_record_id, data[b_record_id]))\n\u001b[0m\u001b[1;32m    255\u001b[0m \u001b[0;34m\u001b[0m\u001b[0m\n\u001b[1;32m    256\u001b[0m             \u001b[0mpairs\u001b[0m\u001b[0;34m.\u001b[0m\u001b[0mclose\u001b[0m\u001b[0;34m(\u001b[0m\u001b[0;34m)\u001b[0m\u001b[0;34m\u001b[0m\u001b[0;34m\u001b[0m\u001b[0m\n",
      "\u001b[0;31mKeyboardInterrupt\u001b[0m: "
     ]
    }
   ],
   "source": [
    "# ## Clustering\n",
    "\n",
    "# `partition` will return sets of records that dedupe\n",
    "# believes are all referring to the same entity.\n",
    "\n",
    "print('clustering...')\n",
    "clustered_dupes = deduper.partition(data_d, 0.5)\n",
    "\n",
    "print('# duplicate sets', len(clustered_dupes))"
   ]
  },
  {
   "cell_type": "code",
   "execution_count": 9,
   "metadata": {},
   "outputs": [],
   "source": [
    "# ## Writing Results\n",
    "\n",
    "# Write our original data back out to a CSV with a new column called\n",
    "# 'Cluster ID' which indicates which records refer to each other.\n",
    "\n",
    "cluster_membership = {}\n",
    "for cluster_id, (records, scores) in enumerate(clustered_dupes):\n",
    "    for record_id, score in zip(records, scores):\n",
    "        cluster_membership[record_id] = {\n",
    "            \"Cluster ID\": cluster_id,\n",
    "            \"confidence_score\": score\n",
    "        }\n",
    "\n",
    "out_f = file_path + output_file\n",
    "in_f = file_path + input_file\n",
    "\n",
    "with open(out_f, 'w') as f_output, open(in_f) as f_input:\n",
    "\n",
    "    reader = csv.DictReader(f_input)\n",
    "    fieldnames = ['Cluster ID', 'confidence_score'] + reader.fieldnames\n",
    "\n",
    "    writer = csv.DictWriter(f_output, fieldnames=fieldnames)\n",
    "    writer.writeheader()\n",
    "\n",
    "    for row in reader:\n",
    "        row_id = int(row['Id'])\n",
    "        row.update(cluster_membership[row_id])\n",
    "        writer.writerow(row)"
   ]
  },
  {
   "cell_type": "markdown",
   "metadata": {},
   "source": [
    "### Evaluation"
   ]
  },
  {
   "cell_type": "code",
   "execution_count": 19,
   "metadata": {},
   "outputs": [],
   "source": [
    "def evaluateDuplicates(found_dupes, true_dupes):\n",
    "    true_positives = found_dupes.intersection(true_dupes)\n",
    "    false_positives = found_dupes.difference(true_dupes)\n",
    "    uncovered_dupes = true_dupes.difference(found_dupes)\n",
    "\n",
    "    print('found duplicate')\n",
    "    print(len(found_dupes))\n",
    "\n",
    "    print('precision')\n",
    "    print(1 - len(false_positives) / float(len(found_dupes)))\n",
    "\n",
    "    print('recall')\n",
    "    print(len(true_positives) / float(len(true_dupes)))"
   ]
  },
  {
   "cell_type": "code",
   "execution_count": 20,
   "metadata": {},
   "outputs": [],
   "source": [
    "def dupePairs(filename, rowname) :\n",
    "    dupe_d = collections.defaultdict(list)\n",
    "\n",
    "    with open(filename) as f:\n",
    "        reader = csv.DictReader(f, delimiter=',', quotechar='\"')\n",
    "        for row in reader:\n",
    "            dupe_d[row[rowname]].append(row['Id'])\n",
    "\n",
    "    if 'x' in dupe_d :\n",
    "        del dupe_d['x']\n",
    "\n",
    "    dupe_s = set([])\n",
    "    for (unique_id, cluster) in viewitems(dupe_d) :\n",
    "        if len(cluster) > 1:\n",
    "            for pair in itertools.combinations(cluster, 2):\n",
    "                dupe_s.add(frozenset(pair))\n",
    "\n",
    "    return dupe_s"
   ]
  },
  {
   "cell_type": "code",
   "execution_count": 21,
   "metadata": {},
   "outputs": [],
   "source": [
    "manual_clusters = 'csv_example_input_with_true_ids.csv'\n",
    "dedupe_clusters = 'csv_example_output.csv'\n",
    "\n",
    "manual_clusters_fp = file_path + manual_clusters\n",
    "dedupe_clusters_fp = file_path + dedupe_clusters"
   ]
  },
  {
   "cell_type": "code",
   "execution_count": 22,
   "metadata": {},
   "outputs": [],
   "source": [
    "true_dupes = dupePairs(manual_clusters_fp, 'True Id')\n",
    "test_dupes = dupePairs(dedupe_clusters_fp, 'Cluster ID')"
   ]
  },
  {
   "cell_type": "code",
   "execution_count": 23,
   "metadata": {},
   "outputs": [
    {
     "name": "stdout",
     "output_type": "stream",
     "text": [
      "found duplicate\n",
      "3087\n",
      "precision\n",
      "0.98607061872368\n",
      "recall\n",
      "0.46065375302663436\n"
     ]
    }
   ],
   "source": [
    "evaluateDuplicates(test_dupes, true_dupes)"
   ]
  },
  {
   "cell_type": "code",
   "execution_count": null,
   "metadata": {},
   "outputs": [],
   "source": []
  }
 ],
 "metadata": {
  "kernelspec": {
   "display_name": "Python 3",
   "language": "python",
   "name": "python3"
  },
  "language_info": {
   "codemirror_mode": {
    "name": "ipython",
    "version": 3
   },
   "file_extension": ".py",
   "mimetype": "text/x-python",
   "name": "python",
   "nbconvert_exporter": "python",
   "pygments_lexer": "ipython3",
   "version": "3.6.8"
  }
 },
 "nbformat": 4,
 "nbformat_minor": 2
}
