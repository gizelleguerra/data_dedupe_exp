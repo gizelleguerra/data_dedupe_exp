{
 "cells": [
  {
   "cell_type": "markdown",
   "metadata": {},
   "source": [
    "### Record Linkage Example"
   ]
  },
  {
   "cell_type": "markdown",
   "metadata": {},
   "source": [
    "This code demonstrates how to use RecordLink with two comma separated\n",
    "values (CSV) files. We have listings of products from two different\n",
    "online stores. The task is to link products between the datasets.\n",
    "The output will be a CSV with our linkded results."
   ]
  },
  {
   "cell_type": "code",
   "execution_count": 1,
   "metadata": {},
   "outputs": [],
   "source": [
    "import os\n",
    "import csv\n",
    "import re\n",
    "import logging\n",
    "import optparse\n",
    "\n",
    "import dedupe\n",
    "from unidecode import unidecode"
   ]
  },
  {
   "cell_type": "code",
   "execution_count": 2,
   "metadata": {},
   "outputs": [],
   "source": [
    "def preProcess(column):\n",
    "    \"\"\"\n",
    "    Do a little bit of data cleaning with the help of Unidecode and Regex.\n",
    "    Things like casing, extra spaces, quotes and new lines can be ignored.\n",
    "    \"\"\"\n",
    "\n",
    "    column = unidecode(column)\n",
    "    column = re.sub('\\n', ' ', column)\n",
    "    column = re.sub('-', '', column)\n",
    "    column = re.sub('/', ' ', column)\n",
    "    column = re.sub(\"'\", '', column)\n",
    "    column = re.sub(\",\", '', column)\n",
    "    column = re.sub(\":\", ' ', column)\n",
    "    column = re.sub('  +', ' ', column)\n",
    "    column = column.strip().strip('\"').strip(\"'\").lower().strip()\n",
    "    if not column:\n",
    "        column = None\n",
    "    return column"
   ]
  },
  {
   "cell_type": "code",
   "execution_count": 3,
   "metadata": {},
   "outputs": [],
   "source": [
    "def readData(filename):\n",
    "    \"\"\"\n",
    "    Read in our data from a CSV file and create a dictionary of records,\n",
    "    where the key is a unique record ID.\n",
    "    \"\"\"\n",
    "\n",
    "    data_d = {}\n",
    "\n",
    "    with open(filename) as f:\n",
    "        reader = csv.DictReader(f)\n",
    "        for i, row in enumerate(reader):\n",
    "            clean_row = dict([(k, preProcess(v)) for (k, v) in row.items()])\n",
    "            if clean_row['price']:\n",
    "                clean_row['price'] = float(clean_row['price'][1:])\n",
    "            data_d[filename + str(i)] = dict(clean_row)\n",
    "\n",
    "    return data_d"
   ]
  },
  {
   "cell_type": "code",
   "execution_count": 4,
   "metadata": {},
   "outputs": [
    {
     "name": "stdout",
     "output_type": "stream",
     "text": [
      "importing data ...\n"
     ]
    }
   ],
   "source": [
    "# ## Setup\n",
    "file_path = '/Users/gizelleguerra/Documents/fedex_cip/record_linkage_example/'\n",
    "output_file = 'data_matching_output.csv'\n",
    "settings_file = 'data_matching_learned_settings'\n",
    "training_file = 'data_matching_training.json'\n",
    "\n",
    "left_file = 'AbtBuy_Abt.csv'\n",
    "right_file = 'AbtBuy_Buy.csv'\n",
    "\n",
    "print('importing data ...')\n",
    "data_1 = readData(file_path + left_file)\n",
    "data_2 = readData(file_path + right_file)\n",
    "\n",
    "def descriptions():\n",
    "    for dataset in (data_1, data_2):\n",
    "        for record in dataset.values():\n",
    "            yield record['description']"
   ]
  },
  {
   "cell_type": "code",
   "execution_count": 5,
   "metadata": {},
   "outputs": [
    {
     "name": "stderr",
     "output_type": "stream",
     "text": [
      "INFO:dedupe.training:Final predicate set:\n",
      "INFO:dedupe.training:LevenshteinSearchPredicate: (2, description)\n",
      "title : logitech digital precision pc gaming headset 981000040\n",
      "description : logitech digital precision pc gaming headset 981000040 cushioned openair design usb and analog connections noisecanceling microphone inline volume and mute controls 10 ft. cable length pc and mac compatible black finish\n",
      "price : 49.0\n",
      "\n",
      "title : logitech digital precision pc gaming headset 981000040\n",
      "description : logitech digital precision pc headset\n",
      "price : 31.99\n",
      "\n",
      "0/10 positive, 0/10 negative\n",
      "Do these records refer to the same thing?\n",
      "(y)es / (n)o / (u)nsure / (f)inished\n"
     ]
    },
    {
     "name": "stdout",
     "output_type": "stream",
     "text": [
      "starting active labeling...\n"
     ]
    },
    {
     "name": "stdin",
     "output_type": "stream",
     "text": [
      " y\n"
     ]
    },
    {
     "name": "stderr",
     "output_type": "stream",
     "text": [
      "title : sony universal remote control rmez4\n",
      "description : sony universal remote control rmez4 easytouse simplified functions controls tv and cable box compatible with most of major brands large buttons for easy operation 3minute memory backup comfortable ergonomic design silver finish\n",
      "price : 16.0\n",
      "\n",
      "title : sony universal remote control rmez4\n",
      "description : tv cable box universal remote\n",
      "price : 12.72\n",
      "\n",
      "1/10 positive, 0/10 negative\n",
      "Do these records refer to the same thing?\n",
      "(y)es / (n)o / (u)nsure / (f)inished / (p)revious\n"
     ]
    },
    {
     "name": "stdin",
     "output_type": "stream",
     "text": [
      " y\n"
     ]
    },
    {
     "name": "stderr",
     "output_type": "stream",
     "text": [
      "INFO:dedupe.training:Final predicate set:\n",
      "INFO:dedupe.training:SimplePredicate: (wholeFieldPredicate, title)\n",
      "title : bracketron ipod docking kit ipm202bl\n",
      "description : bracketron ipod docking kit ipm202bl compatible with all generation ipods including ipod mini ipod nano and apple iphone wings adjustable up to 2.5 black finish\n",
      "price : 14.95\n",
      "\n",
      "title : bracketron ipod docking kit\n",
      "description : bracketron ipm202bl pro series ipod docking kit\n",
      "price : 4.65\n",
      "\n",
      "2/10 positive, 0/10 negative\n",
      "Do these records refer to the same thing?\n",
      "(y)es / (n)o / (u)nsure / (f)inished / (p)revious\n"
     ]
    },
    {
     "name": "stdin",
     "output_type": "stream",
     "text": [
      " y\n"
     ]
    },
    {
     "name": "stderr",
     "output_type": "stream",
     "text": [
      "title : apple wireless mighty mouse mb111lla\n",
      "description : apple wireless mighty mouse mb111lla bluetooth technology laser tracking engine 360degree innovative scroll ball and button touchsensitive top shell forcesensing side buttons customizable white finish\n",
      "price : 69.0\n",
      "\n",
      "title : apple wireless mighty mouse mb111ll a\n",
      "description : laser 4 x button\n",
      "price : 69.0\n",
      "\n",
      "3/10 positive, 0/10 negative\n",
      "Do these records refer to the same thing?\n",
      "(y)es / (n)o / (u)nsure / (f)inished / (p)revious\n"
     ]
    },
    {
     "name": "stdin",
     "output_type": "stream",
     "text": [
      " y\n"
     ]
    },
    {
     "name": "stderr",
     "output_type": "stream",
     "text": [
      "INFO:dedupe.training:Final predicate set:\n",
      "INFO:dedupe.training:TfidfTextSearchPredicate: (0.8, title)\n",
      "title : omnimount tv top shelf mount cch1p\n",
      "description : omnimount tv top shelf mount cch1p tv top shelf mount for crt lcd & dlp tvs platinum finish\n",
      "price : None\n",
      "\n",
      "title : omnimount tv top shelf mount\n",
      "description : omnimount cch1b settop centerchannel shelf\n",
      "price : 21.49\n",
      "\n",
      "4/10 positive, 0/10 negative\n",
      "Do these records refer to the same thing?\n",
      "(y)es / (n)o / (u)nsure / (f)inished / (p)revious\n"
     ]
    },
    {
     "name": "stdin",
     "output_type": "stream",
     "text": [
      " y\n"
     ]
    },
    {
     "name": "stderr",
     "output_type": "stream",
     "text": [
      "INFO:dedupe.training:Final predicate set:\n",
      "INFO:dedupe.training:SimplePredicate: (twoGramFingerprint, title)\n",
      "INFO:dedupe.training:TfidfTextSearchPredicate: (0.8, title)\n",
      "title : plantronics voyager 510 bluetooth headset silver finish 496915\n",
      "description : plantronics voyager 510 bluetooth headset 496915 lightweight design for allday wearing comfort noisecanceling microphone for clearer conversations windnoise reduction technology headset folds for easy storage onetouch call control buttons\n",
      "price : None\n",
      "\n",
      "title : plantronics voyager 510 bluetooth earset\n",
      "description : plantronics voyager510 bluetooth headset\n",
      "price : None\n",
      "\n",
      "5/10 positive, 0/10 negative\n",
      "Do these records refer to the same thing?\n",
      "(y)es / (n)o / (u)nsure / (f)inished / (p)revious\n"
     ]
    },
    {
     "name": "stdin",
     "output_type": "stream",
     "text": [
      " y\n"
     ]
    },
    {
     "name": "stderr",
     "output_type": "stream",
     "text": [
      "INFO:dedupe.training:Final predicate set:\n",
      "INFO:dedupe.training:TfidfNGramSearchPredicate: (0.8, title)\n",
      "title : garmin vehicle suction cup mount 0101093600\n",
      "description : garmin vehicle suction cup mount 0101093600 no installation required securely mounts your gps to dash black finish\n",
      "price : 25.0\n",
      "\n",
      "title : garmin vehicle suction cup mount\n",
      "description : garmin 0101072303 vehicle suction cup mount\n",
      "price : None\n",
      "\n",
      "6/10 positive, 0/10 negative\n",
      "Do these records refer to the same thing?\n",
      "(y)es / (n)o / (u)nsure / (f)inished / (p)revious\n"
     ]
    },
    {
     "name": "stdin",
     "output_type": "stream",
     "text": [
      " n\n"
     ]
    },
    {
     "name": "stderr",
     "output_type": "stream",
     "text": [
      "INFO:dedupe.training:Final predicate set:\n",
      "INFO:dedupe.training:TfidfTextSearchPredicate: (0.6, title)\n",
      "title : frigidaire electric dryer feq1442wh\n",
      "description : frigidaire electric dryer feq1442wh 5.8 cubic foot super capacity drum 7 auto dry cycles 4 dryness level selections 90 minute timed dry 4 temperature options white finish\n",
      "price : None\n",
      "\n",
      "title : frigidaire electric dryer feq1442wh 5.8 cubic foot super capacity drum\n",
      "description : None\n",
      "price : 499.0\n",
      "\n",
      "6/10 positive, 1/10 negative\n",
      "Do these records refer to the same thing?\n",
      "(y)es / (n)o / (u)nsure / (f)inished / (p)revious\n"
     ]
    },
    {
     "name": "stdin",
     "output_type": "stream",
     "text": [
      " y\n"
     ]
    },
    {
     "name": "stderr",
     "output_type": "stream",
     "text": [
      "title : canon photo ink cartridge cl52\n",
      "description : canon photo ink cartridge cl52 compatible with pixma ip6210d and ip6220d printers\n",
      "price : 25.0\n",
      "\n",
      "title : canon cl52 photo ink cartridge for pixma ip6210d and pixma ip6220d printers 0619b002\n",
      "description : color\n",
      "price : 18.16\n",
      "\n",
      "7/10 positive, 1/10 negative\n",
      "Do these records refer to the same thing?\n",
      "(y)es / (n)o / (u)nsure / (f)inished / (p)revious\n"
     ]
    },
    {
     "name": "stdin",
     "output_type": "stream",
     "text": [
      " y\n"
     ]
    },
    {
     "name": "stderr",
     "output_type": "stream",
     "text": [
      "INFO:dedupe.training:Final predicate set:\n",
      "INFO:dedupe.training:SimplePredicate: (firstTwoTokensPredicate, title)\n",
      "title : garmin vehicle suction cup mount 0101093600\n",
      "description : garmin vehicle suction cup mount 0101093600 no installation required securely mounts your gps to dash black finish\n",
      "price : 25.0\n",
      "\n",
      "title : garmin suction cup mount 0101093600\n",
      "description : None\n",
      "price : 13.02\n",
      "\n",
      "8/10 positive, 1/10 negative\n",
      "Do these records refer to the same thing?\n",
      "(y)es / (n)o / (u)nsure / (f)inished / (p)revious\n"
     ]
    },
    {
     "name": "stdin",
     "output_type": "stream",
     "text": [
      " f\n"
     ]
    },
    {
     "name": "stderr",
     "output_type": "stream",
     "text": [
      "Finished labeling\n",
      "INFO:dedupe.training:Final predicate set:\n",
      "INFO:dedupe.training:SimplePredicate: (commonThreeTokens, title)\n",
      "INFO:rlr.crossvalidation:using cross validation to find optimum alpha...\n",
      "/Applications/anaconda3/lib/python3.6/site-packages/rlr/crossvalidation.py:122: RuntimeWarning: invalid value encountered in double_scalars\n",
      "  * (true_distinct + false_distinct)))\n",
      "INFO:rlr.crossvalidation:optimum alpha: 0.000010, score 0.0\n",
      "INFO:dedupe.training:Final predicate set:\n",
      "INFO:dedupe.training:(SimplePredicate: (commonThreeTokens, title), SimplePredicate: (firstTwoTokensPredicate, title), SimplePredicate: (hundredIntegersOddPredicate, title))\n",
      "INFO:dedupe.training:(SimplePredicate: (firstTwoTokensPredicate, title), SimplePredicate: (commonThreeTokens, title), SimplePredicate: (sameSevenCharStartPredicate, description))\n",
      "INFO:dedupe.training:(SimplePredicate: (commonThreeTokens, title), SimplePredicate: (roundTo1, price), SimplePredicate: (sameThreeCharStartPredicate, title))\n"
     ]
    }
   ],
   "source": [
    "# ## Training\n",
    "\n",
    "if os.path.exists(settings_file):\n",
    "    print('reading from', settings_file)\n",
    "    with open(settings_file, 'rb') as sf:\n",
    "        linker = dedupe.StaticRecordLink(sf)\n",
    "\n",
    "else:\n",
    "    # Define the fields the linker will pay attention to\n",
    "    #\n",
    "    # Notice how we are telling the linker to use a custom field comparator\n",
    "    # for the 'price' field.\n",
    "    fields = [\n",
    "        {'field': 'title', 'type': 'String'},\n",
    "        {'field': 'title', 'type': 'Text', 'corpus': descriptions()},\n",
    "        {'field': 'description', 'type': 'Text',\n",
    "         'has missing': True, 'corpus': descriptions()},\n",
    "        {'field': 'price', 'type': 'Price', 'has missing': True}]\n",
    "\n",
    "    # Create a new linker object and pass our data model to it.\n",
    "    linker = dedupe.RecordLink(fields)\n",
    "\n",
    "    # If we have training data saved from a previous run of linker,\n",
    "    # look for it an load it in.\n",
    "    # __Note:__ if you want to train from scratch, delete the training_file\n",
    "    if os.path.exists(training_file):\n",
    "        print('reading labeled examples from ', training_file)\n",
    "        with open(training_file) as tf:\n",
    "            linker.prepare_training(data_1,\n",
    "                                    data_2,\n",
    "                                    training_file=tf,\n",
    "                                    sample_size=15000)\n",
    "    else:\n",
    "        linker.prepare_training(data_1, data_2, sample_size=15000)\n",
    "\n",
    "    # ## Active learning\n",
    "    # Dedupe will find the next pair of records\n",
    "    # it is least certain about and ask you to label them as matches\n",
    "    # or not.\n",
    "    # use 'y', 'n' and 'u' keys to flag duplicates\n",
    "    # press 'f' when you are finished\n",
    "    print('starting active labeling...')\n",
    "\n",
    "    dedupe.console_label(linker)\n",
    "\n",
    "    linker.train()\n",
    "\n",
    "    # When finished, save our training away to disk\n",
    "    with open(training_file, 'w') as tf:\n",
    "        linker.write_training(tf)\n",
    "\n",
    "    # Save our weights and predicates to disk.  If the settings file\n",
    "    # exists, we will skip all the training and learning next time we run\n",
    "    # this file.\n",
    "    with open(settings_file, 'wb') as sf:\n",
    "        linker.write_settings(sf)\n"
   ]
  },
  {
   "cell_type": "code",
   "execution_count": 6,
   "metadata": {},
   "outputs": [
    {
     "name": "stdout",
     "output_type": "stream",
     "text": [
      "clustering...\n",
      "# duplicate sets 173\n"
     ]
    }
   ],
   "source": [
    "# ## Blocking\n",
    "# ## Clustering\n",
    "\n",
    "# Find the threshold that will maximize a weighted average of our\n",
    "# precision and recall.  When we set the recall weight to 2, we are\n",
    "# saying we care twice as much about recall as we do precision.\n",
    "#\n",
    "# If we had more data, we would not pass in all the blocked data into\n",
    "# this function but a representative sample.\n",
    "\n",
    "print('clustering...')\n",
    "linked_records = linker.join(data_1, data_2, 0.0)\n",
    "\n",
    "print('# duplicate sets', len(linked_records))"
   ]
  },
  {
   "cell_type": "code",
   "execution_count": 7,
   "metadata": {},
   "outputs": [],
   "source": [
    "# ## Writing Results\n",
    "# Write our original data back out to a CSV with a new column called\n",
    "# 'Cluster ID' which indicates which records refer to each other.\n",
    "\n",
    "cluster_membership = {}\n",
    "for cluster_id, (cluster, score) in enumerate(linked_records):\n",
    "    for record_id in cluster:\n",
    "        cluster_membership[record_id] = {'Cluster ID': cluster_id,\n",
    "                                         'Link Score': score}"
   ]
  },
  {
   "cell_type": "code",
   "execution_count": 10,
   "metadata": {},
   "outputs": [],
   "source": [
    "out_f = file_path + output_file\n",
    "right_f = file_path + left_file\n",
    "left_f = file_path + right_file\n",
    "\n",
    "with open(out_f, 'w') as f:\n",
    "\n",
    "    header_unwritten = True\n",
    "\n",
    "    for fileno, filename in enumerate((left_f, right_f)):\n",
    "        with open(filename) as f_input:\n",
    "            reader = csv.DictReader(f_input)\n",
    "\n",
    "            if header_unwritten:\n",
    "\n",
    "                fieldnames = (['Cluster ID', 'Link Score', 'source file'] +\n",
    "                                reader.fieldnames)\n",
    "\n",
    "                writer = csv.DictWriter(f, fieldnames=fieldnames)\n",
    "                writer.writeheader()\n",
    "\n",
    "                header_unwritten = False\n",
    "\n",
    "            for row_id, row in enumerate(reader):\n",
    "\n",
    "                record_id = filename + str(row_id)\n",
    "                cluster_details = cluster_membership.get(record_id, {})\n",
    "                row['source file'] = fileno\n",
    "                row.update(cluster_details)\n",
    "\n",
    "                writer.writerow(row)"
   ]
  },
  {
   "cell_type": "code",
   "execution_count": null,
   "metadata": {},
   "outputs": [],
   "source": []
  }
 ],
 "metadata": {
  "kernelspec": {
   "display_name": "Python 3",
   "language": "python",
   "name": "python3"
  },
  "language_info": {
   "codemirror_mode": {
    "name": "ipython",
    "version": 3
   },
   "file_extension": ".py",
   "mimetype": "text/x-python",
   "name": "python",
   "nbconvert_exporter": "python",
   "pygments_lexer": "ipython3",
   "version": "3.6.8"
  }
 },
 "nbformat": 4,
 "nbformat_minor": 2
}
